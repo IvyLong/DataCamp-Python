{
 "cells": [
  {
   "cell_type": "markdown",
   "id": "ef6bf497",
   "metadata": {},
   "source": [
    "# Python Workshop: Modules and Packages\n",
    "\n",
    "## Learning Objectives\n",
    "\n",
    "By the end of this section, you will be able to:\n",
    "- Import and use Python modules to organize and reuse code\n",
    "- Create your own modules and understand how imports work\n",
    "- Explore Python's standard library for useful tools\n",
    "- Manage packages using pip (Python's package installer)\n",
    "- Understand and set up virtual environments for project isolation\n",
    "- Install and use third-party libraries"
   ]
  },
  {
   "cell_type": "markdown",
   "id": "4f9ef094",
   "metadata": {},
   "source": [
    "## 1. Importing Modules\n",
    "\n",
    "Modules are files containing Python code (functions, variables, classes) that you can reuse in your programs."
   ]
  },
  {
   "cell_type": "markdown",
   "id": "ef8db7f3",
   "metadata": {},
   "source": [
    "### Importing a Whole Module"
   ]
  },
  {
   "cell_type": "code",
   "execution_count": null,
   "id": "b2fb148c",
   "metadata": {},
   "outputs": [],
   "source": [
    "import math\n",
    "\n",
    "# Using functions from the math module\n",
    "print(f\"Square root of 16: {math.sqrt(16)}\")\n",
    "print(f\"Value of pi: {math.pi}\")\n",
    "print(f\"Ceiling of 4.3: {math.ceil(4.3)}\")\n",
    "print(f\"Floor of 4.7: {math.floor(4.7)}\")\n",
    "print(f\"Factorial of 5: {math.factorial(5)}\")"
   ]
  },
  {
   "cell_type": "markdown",
   "id": "0af59547",
   "metadata": {},
   "source": [
    "### Importing Specific Functions or Classes"
   ]
  },
  {
   "cell_type": "code",
   "execution_count": null,
   "id": "3e00df3f",
   "metadata": {},
   "outputs": [],
   "source": [
    "from math import pi, sqrt, sin, cos, radians\n",
    "\n",
    "print(f\"Pi: {pi}\")\n",
    "print(f\"Square root of 25: {sqrt(25)}\")\n",
    "\n",
    "# Using trigonometric functions\n",
    "angle = 30  # degrees\n",
    "angle_rad = radians(angle)\n",
    "print(f\"sin({angle}°) = {sin(angle_rad):.3f}\")\n",
    "print(f\"cos({angle}°) = {cos(angle_rad):.3f}\")"
   ]
  },
  {
   "cell_type": "markdown",
   "id": "dfc0c972",
   "metadata": {},
   "source": [
    "### Importing Everything (Use with Caution)"
   ]
  },
  {
   "cell_type": "code",
   "execution_count": null,
   "id": "48a15bb0",
   "metadata": {},
   "outputs": [],
   "source": [
    "# This imports all functions from math module\n",
    "# Generally not recommended as it can cause naming conflicts\n",
    "# exp = lambda x: x\n",
    "\n",
    "from math import *\n",
    "\n",
    "\n",
    "print(f\"Using imported functions directly:\")\n",
    "print(f\"log(10) = {log(10)}\")\n",
    "print(f\"exp(1) = {exp(1)}\")\n",
    "print(f\"pow(2, 3) = {pow(2, 3)}\")"
   ]
  },
  {
   "cell_type": "markdown",
   "id": "4281f6aa",
   "metadata": {},
   "source": [
    "### Assigning an Alias\n",
    "\n",
    "This helps shorten long module names or avoid naming conflicts."
   ]
  },
  {
   "cell_type": "code",
   "execution_count": null,
   "id": "28b841f1",
   "metadata": {},
   "outputs": [],
   "source": [
    "import statistics as stats\n",
    "import datetime as dt\n",
    "\n",
    "# Using statistics module with alias\n",
    "data = [1, 2, 3, 4, 5, 6, 7, 8, 9, 10]\n",
    "print(f\"Mean: {stats.mean(data)}\")\n",
    "print(f\"Median: {stats.median(data)}\")\n",
    "print(f\"Mode: {stats.mode([1, 1, 2, 2, 2, 3, 3])}\")\n",
    "print(f\"Standard deviation: {stats.stdev(data):.2f}\")\n",
    "\n",
    "# Using datetime module with alias\n",
    "now = dt.datetime.now()\n",
    "print(f\"Current date and time: {now}\")"
   ]
  },
  {
   "cell_type": "markdown",
   "id": "9de91a5f",
   "metadata": {},
   "source": [
    "## 2. Creating Your Own Modules\n",
    "\n",
    "Any `.py` file can be a module! This helps you organize and reuse your code.\n",
    "\n",
    "Let's create some example modules to demonstrate this concept."
   ]
  },
  {
   "cell_type": "markdown",
   "id": "c60bf464",
   "metadata": {},
   "source": [
    "### Step 1: Create a Module File\n",
    "\n",
    "First, let's create a simple greeting module."
   ]
  },
  {
   "cell_type": "code",
   "execution_count": null,
   "id": "eb18403d",
   "metadata": {},
   "outputs": [],
   "source": [
    "# Let's create a greetings.py file\n",
    "greetings_content = '''# greetings.py\n",
    "def say_hello(name):\n",
    "    \"\"\"Print a hello message to the given name.\"\"\"\n",
    "    print(f\"Hello, {name}!\")\n",
    "\n",
    "def say_goodbye(name):\n",
    "    \"\"\"Print a goodbye message to the given name.\"\"\"\n",
    "    print(f\"Goodbye, {name}!\")\n",
    "\n",
    "def get_greeting(name, time_of_day=\"day\"):\n",
    "    \"\"\"Return a greeting based on time of day.\"\"\"\n",
    "    greetings_map = {\n",
    "        \"morning\": f\"Good morning, {name}!\",\n",
    "        \"afternoon\": f\"Good afternoon, {name}!\",\n",
    "        \"evening\": f\"Good evening, {name}!\",\n",
    "        \"day\": f\"Hello, {name}!\"\n",
    "    }\n",
    "    return greetings_map.get(time_of_day, f\"Hello, {name}!\")\n",
    "\n",
    "# Module-level variable\n",
    "DEFAULT_NAME = \"World\"\n",
    "\n",
    "if __name__ == \"__main__\":\n",
    "    # This code runs only when the module is executed directly\n",
    "    print(\"Testing greetings module:\")\n",
    "    say_hello(\"Alice\")\n",
    "    say_goodbye(\"Bob\")\n",
    "'''\n",
    "\n",
    "# Write the module to a file\n",
    "with open('greetings.py', 'w') as f:\n",
    "    f.write(greetings_content)\n",
    "\n",
    "print(\"Created greetings.py module\")"
   ]
  },
  {
   "cell_type": "markdown",
   "id": "727671b1",
   "metadata": {},
   "source": [
    "### Step 2: Import and Use Your Module"
   ]
  },
  {
   "cell_type": "code",
   "execution_count": null,
   "id": "d40c78ef",
   "metadata": {},
   "outputs": [],
   "source": [
    "# Import our custom module\n",
    "import greetings\n",
    "\n",
    "# Use functions from our module\n",
    "greetings.say_hello(\"Alice\")\n",
    "greetings.say_goodbye(\"Bob\")\n",
    "\n",
    "# Use the function with different parameters\n",
    "print(greetings.get_greeting(\"Charlie\", \"morning\"))\n",
    "print(greetings.get_greeting(\"Diana\", \"evening\"))\n",
    "\n",
    "# Access module-level variable\n",
    "print(f\"Default name: {greetings.DEFAULT_NAME}\")"
   ]
  },
  {
   "cell_type": "markdown",
   "id": "2a7616ff",
   "metadata": {},
   "source": [
    "### Importing Specific Functions"
   ]
  },
  {
   "cell_type": "code",
   "execution_count": null,
   "id": "66520e5d",
   "metadata": {},
   "outputs": [],
   "source": [
    "# Import only specific functions\n",
    "from greetings import say_hello, get_greeting\n",
    "\n",
    "# Now we can use them directly without the module prefix\n",
    "say_hello(\"Eve\")\n",
    "print(get_greeting(\"Frank\", \"afternoon\"))"
   ]
  },
  {
   "cell_type": "markdown",
   "id": "97dd0572",
   "metadata": {},
   "source": [
    "### Creating a Math Utilities Module"
   ]
  },
  {
   "cell_type": "code",
   "execution_count": null,
   "id": "03a3ba09",
   "metadata": {},
   "outputs": [],
   "source": [
    "# Let's create another module for math utilities\n",
    "math_utils_content = '''# math_utils.py\n",
    "def add(a, b):\n",
    "    \"\"\"Add two numbers.\"\"\"\n",
    "    return a + b\n",
    "\n",
    "def multiply(a, b):\n",
    "    \"\"\"Multiply two numbers.\"\"\"\n",
    "    return a * b\n",
    "\n",
    "def divide(a, b):\n",
    "    \"\"\"Divide two numbers, handling division by zero.\"\"\"\n",
    "    if b == 0:\n",
    "        raise ValueError(\"Cannot divide by zero!\")\n",
    "    return a / b\n",
    "\n",
    "def power(base, exponent):\n",
    "    \"\"\"Calculate base raised to the power of exponent.\"\"\"\n",
    "    return base ** exponent\n",
    "\n",
    "def factorial(n):\n",
    "    \"\"\"Calculate factorial of n.\"\"\"\n",
    "    if n < 0:\n",
    "        raise ValueError(\"Factorial is not defined for negative numbers\")\n",
    "    if n == 0 or n == 1:\n",
    "        return 1\n",
    "    result = 1\n",
    "    for i in range(2, n + 1):\n",
    "        result *= i\n",
    "    return result\n",
    "\n",
    "# Constants\n",
    "PI = 3.14159265359\n",
    "E = 2.71828182846\n",
    "'''\n",
    "\n",
    "# Write the math utilities module\n",
    "with open('math_utils.py', 'w') as f:\n",
    "    f.write(math_utils_content)\n",
    "\n",
    "print(\"Created math_utils.py module\")"
   ]
  },
  {
   "cell_type": "code",
   "execution_count": null,
   "id": "0dee6e21",
   "metadata": {},
   "outputs": [],
   "source": [
    "# Import and test our math utilities\n",
    "import math_utils\n",
    "\n",
    "print(\"Testing math_utils module:\")\n",
    "print(f\"add(5, 3) = {math_utils.add(5, 3)}\")\n",
    "print(f\"multiply(4, 7) = {math_utils.multiply(4, 7)}\")\n",
    "print(f\"divide(15, 3) = {math_utils.divide(15, 3)}\")\n",
    "print(f\"power(2, 8) = {math_utils.power(2, 8)}\")\n",
    "print(f\"factorial(5) = {math_utils.factorial(5)}\")\n",
    "print(f\"PI constant: {math_utils.PI}\")\n",
    "\n",
    "# Test error handling\n",
    "try:\n",
    "    math_utils.divide(10, 0)\n",
    "except ValueError as e:\n",
    "    print(f\"Error caught: {e}\")"
   ]
  },
  {
   "cell_type": "markdown",
   "id": "6403c8e1",
   "metadata": {},
   "source": [
    "## 3. Standard Library Exploration\n",
    "\n",
    "Python comes with dozens of built-in modules called the \"standard library\". These are well-tested and save you time!"
   ]
  },
  {
   "cell_type": "markdown",
   "id": "ee4e9e9c",
   "metadata": {},
   "source": [
    "### Random Module"
   ]
  },
  {
   "cell_type": "code",
   "execution_count": null,
   "id": "8a8bcc9d",
   "metadata": {},
   "outputs": [],
   "source": [
    "import random\n",
    "\n",
    "print(\"Random module examples:\")\n",
    "\n",
    "# Generate random numbers\n",
    "print(f\"Random integer between 1-10: {random.randint(1, 10)}\")\n",
    "print(f\"Random float between 0-1: {random.random():.3f}\")\n",
    "print(f\"Random float between 5-15: {random.uniform(5, 15):.2f}\")\n",
    "\n",
    "# Simulate dice rolls\n",
    "print(\"\\nSimulating 5 dice rolls:\")\n",
    "for i in range(5):\n",
    "    roll = random.randint(1, 6)\n",
    "    print(f\"Roll {i+1}: {roll}\")\n",
    "\n",
    "# Work with sequences\n",
    "colors = [\"red\", \"green\", \"blue\", \"yellow\", \"purple\"]\n",
    "print(f\"\\nRandom color: {random.choice(colors)}\")\n",
    "\n",
    "# Sample multiple items\n",
    "print(f\"Random sample of 3 colors: {random.sample(colors, 3)}\")\n",
    "\n",
    "# Shuffle a list\n",
    "numbers = [1, 2, 3, 4, 5]\n",
    "random.shuffle(numbers)\n",
    "print(f\"Shuffled numbers: {numbers}\")"
   ]
  },
  {
   "cell_type": "markdown",
   "id": "273b97b7",
   "metadata": {},
   "source": [
    "### OS Module"
   ]
  },
  {
   "cell_type": "code",
   "execution_count": null,
   "id": "ba0b0806",
   "metadata": {},
   "outputs": [],
   "source": [
    "import os\n",
    "\n",
    "print(\"OS module examples:\")\n",
    "\n",
    "# Get current working directory\n",
    "print(f\"Current directory: {os.getcwd()}\")\n",
    "\n",
    "# Environment variables\n",
    "print(f\"Python path: {os.environ.get('PYTHONPATH', 'Not set')}\")\n",
    "print(f\"Home directory: {os.environ.get('HOME', 'Not available')}\")\n",
    "\n",
    "# Path operations\n",
    "file_path = \"/Users/example/documents/file.txt\"\n",
    "print(f\"\\nPath operations for: {file_path}\")\n",
    "print(f\"Directory: {os.path.dirname(file_path)}\")\n",
    "print(f\"Filename: {os.path.basename(file_path)}\")\n",
    "print(f\"File extension: {os.path.splitext(file_path)[1]}\")\n",
    "\n",
    "# Check if files/directories exist\n",
    "print(f\"Current file exists: {os.path.exists('greetings.py')}\")\n",
    "print(f\"Math utils exists: {os.path.exists('math_utils.py')}\")"
   ]
  },
  {
   "cell_type": "markdown",
   "id": "9cf2e033",
   "metadata": {},
   "source": [
    "### Datetime Module"
   ]
  },
  {
   "cell_type": "code",
   "execution_count": null,
   "id": "3ab89e47",
   "metadata": {},
   "outputs": [],
   "source": [
    "import datetime\n",
    "\n",
    "print(\"Datetime module examples:\")\n",
    "\n",
    "# Current date and time\n",
    "now = datetime.datetime.now()\n",
    "print(f\"Current datetime: {now}\")\n",
    "print(f\"Current date: {now.date()}\")\n",
    "print(f\"Current time: {now.time()}\")\n",
    "\n",
    "# Formatting dates\n",
    "print(f\"Formatted date: {now.strftime('%Y-%m-%d')}\")\n",
    "print(f\"Formatted datetime: {now.strftime('%B %d, %Y at %I:%M %p')}\")\n",
    "\n",
    "# Create specific dates\n",
    "birthday = datetime.date(1990, 5, 15)\n",
    "print(f\"Birthday: {birthday}\")\n",
    "\n",
    "# Date arithmetic\n",
    "today = datetime.date.today()\n",
    "days_since_birthday = today - birthday\n",
    "print(f\"Days since birthday: {days_since_birthday.days}\")\n",
    "\n",
    "# Future date\n",
    "future_date = today + datetime.timedelta(days=30)\n",
    "print(f\"Date 30 days from now: {future_date}\")"
   ]
  },
  {
   "cell_type": "markdown",
   "id": "748c4589",
   "metadata": {},
   "source": [
    "### JSON Module"
   ]
  },
  {
   "cell_type": "code",
   "execution_count": null,
   "id": "694fc92a",
   "metadata": {},
   "outputs": [],
   "source": [
    "import json\n",
    "\n",
    "print(\"JSON module examples:\")\n",
    "\n",
    "# Python data to JSON\n",
    "student_data = {\n",
    "    \"name\": \"Alice Johnson\",\n",
    "    \"age\": 22,\n",
    "    \"grades\": [85, 90, 92, 88],\n",
    "    \"is_enrolled\": True,\n",
    "    \"courses\": [\"Python\", \"Data Science\", \"Web Development\"]\n",
    "}\n",
    "\n",
    "# Convert to JSON string, dictionaty to JSON string\n",
    "json_string = json.dumps(student_data, indent=2)\n",
    "print(\"Converted Python data to JSON string:\")\n",
    "print(json_string)\n",
    "\n",
    "# Json string to dictionary\n",
    "demo_dictionary = json.loads(json_string)\n",
    "print(\"Python data as JSON:\")\n",
    "print(json_string)\n",
    "\n",
    "# Save to file\n",
    "with open('student_data.json', 'w') as f:\n",
    "    json.dump(student_data, f, indent=2)\n",
    "print(\"\\nSaved data to student_data.json\")\n",
    "\n",
    "# Read from file\n",
    "with open('student_data.json', 'r') as f:\n",
    "    loaded_data = json.load(f)\n",
    "\n",
    "# Without s, the method is to deal with string, with s, it is to deal with file object\n",
    "# dump and dumps is from python object (dictionary or list) to JSON string\n",
    "# load and loads is from JSON string to python object (dictionary or list)"
   ]
  },
  {
   "cell_type": "markdown",
   "id": "e3a72743",
   "metadata": {},
   "source": [
    "### Collections Module"
   ]
  },
  {
   "cell_type": "code",
   "execution_count": null,
   "id": "21ed18e4",
   "metadata": {},
   "outputs": [],
   "source": [
    "from collections import Counter, defaultdict, namedtuple\n",
    "\n",
    "# what is collections module?\n",
    "# The collections module provides alternatives to built-in types that can be more efficient or convenient for certain tasks.\n",
    "# It includes specialized container datatypes like Counter, defaultdict, namedtuple, deque, and OrderedDict.\n",
    "\n",
    "print(\"Collections module examples:\")\n",
    "\n",
    "# Counter - count elements in a sequence\n",
    "text = \"hello world\"\n",
    "letter_count = Counter(text)\n",
    "print(f\"Letter frequency in '{text}': {letter_count}\")\n",
    "print(f\"Most common letters: {letter_count.most_common(3)}\")\n",
    "\n",
    "# Count words in a sentence\n",
    "sentence = \"the quick brown fox jumps over the lazy dog the fox\"\n",
    "word_count = Counter(sentence.split())\n",
    "print(f\"Word frequency: {word_count}\")\n",
    "\n",
    "# defaultdict - dictionary with default values\n",
    "dd = defaultdict(list)\n",
    "dd['fruits'].append('apple')\n",
    "dd['fruits'].append('banana')\n",
    "dd['vegetables'].append('carrot')\n",
    "print(f\"defaultdict example: {dict(dd)}\")\n",
    "\n",
    "# namedtuple - create simple classes\n",
    "Point = namedtuple('Point', ['x', 'y'])\n",
    "p1 = Point(1, 2)\n",
    "p2 = Point(3, 4)\n",
    "print(f\"Point 1: {p1}\")\n",
    "print(f\"Point 1 x-coordinate: {p1.x}\")\n",
    "print(f\"Distance between points: {((p2.x - p1.x)**2 + (p2.y - p1.y)**2)**0.5:.2f}\")"
   ]
  },
  {
   "cell_type": "markdown",
   "id": "1a70abbc",
   "metadata": {},
   "source": [
    "## 4. Package Management with pip\n",
    "\n",
    "**pip** is Python's package installer. Use it to install and manage third-party libraries.\n",
    "\n",
    "Note: The following commands would be run in a terminal/command prompt, not in this notebook."
   ]
  },
  {
   "cell_type": "markdown",
   "id": "fa850191",
   "metadata": {},
   "source": [
    "### Common pip Commands\n",
    "\n",
    "Here are the most useful pip commands you'll use:\n",
    "\n",
    "```bash\n",
    "# Install a package\n",
    "pip install package_name\n",
    "\n",
    "# Install a specific version\n",
    "pip install package_name==1.2.3\n",
    "\n",
    "# Upgrade a package\n",
    "pip install --upgrade package_name\n",
    "\n",
    "# Uninstall a package\n",
    "pip uninstall package_name\n",
    "\n",
    "# List installed packages\n",
    "pip list\n",
    "\n",
    "# Show package information\n",
    "pip show package_name\n",
    "\n",
    "# Install from requirements file\n",
    "pip install -r requirements.txt\n",
    "\n",
    "# Create requirements file\n",
    "pip freeze > requirements.txt\n",
    "```"
   ]
  },
  {
   "cell_type": "markdown",
   "id": "9f2b1e2c",
   "metadata": {},
   "source": [
    "## 5. Virtual Environments\n",
    "\n",
    "A **virtual environment** is a self-contained directory with its own Python and package versions. This prevents conflicts between projects.\n",
    "\n",
    "### Why Use Virtual Environments?\n",
    "\n",
    "- **Isolation**: Each project can have its own package versions\n",
    "- **No conflicts**: Avoid version conflicts between projects  \n",
    "- **Clean system**: Keep your system Python installation clean\n",
    "- **Reproducibility**: Share exact environment specifications"
   ]
  },
  {
   "cell_type": "markdown",
   "id": "4ad30f58",
   "metadata": {},
   "source": [
    "### Creating and Using Virtual Environments\n",
    "\n",
    "Here are the commands you would use in a terminal:\n",
    "\n",
    "```bash\n",
    "# Create a virtual environment\n",
    "python -m venv myproject_env\n",
    "\n",
    "# Activate the virtual environment\n",
    "# On Windows:\n",
    "myproject_env\\Scripts\\activate\n",
    "# On Mac/Linux:\n",
    "source myproject_env/bin/activate\n",
    "\n",
    "# Install packages (only affects this environment)\n",
    "pip install requests pandas numpy\n",
    "\n",
    "# Save environment specifications\n",
    "pip freeze > requirements.txt\n",
    "\n",
    "# Deactivate the environment\n",
    "deactivate\n",
    "\n",
    "# Remove the environment (just delete the folder)\n",
    "rm -rf myproject_env  # Linux/Mac\n",
    "rmdir /s myproject_env  # Windows\n",
    "```"
   ]
  },
  {
   "cell_type": "code",
   "execution_count": null,
   "id": "41923f63",
   "metadata": {},
   "outputs": [],
   "source": [
    "# Let's create a sample requirements.txt file\n",
    "requirements_content = \"\"\"# Example requirements.txt file\n",
    "requests>=2.25.0\n",
    "pandas>=1.3.0\n",
    "numpy>=1.21.0\n",
    "matplotlib>=3.4.0\n",
    "jupyter>=1.0.0\n",
    "\"\"\"\n",
    "\n",
    "with open('requirements.txt', 'w') as f:\n",
    "    f.write(requirements_content)\n",
    "\n",
    "print(\"Created example requirements.txt file:\")\n",
    "print(requirements_content)"
   ]
  },
  {
   "cell_type": "markdown",
   "id": "39b1ecd9",
   "metadata": {},
   "source": [
    "## 6. Using Third-Party Libraries\n",
    "\n",
    "Python has a huge ecosystem of community-built libraries! Let's explore some common ones."
   ]
  },
  {
   "cell_type": "markdown",
   "id": "4e3f39fc",
   "metadata": {},
   "source": [
    "### Example: Working with Files and Data\n",
    "\n",
    "Let's demonstrate some common tasks you might do with third-party libraries."
   ]
  },
  {
   "cell_type": "code",
   "execution_count": null,
   "id": "b9c44396",
   "metadata": {},
   "outputs": [],
   "source": [
    "# Since we might not have all third-party libraries installed,\n",
    "# let's simulate what working with popular libraries looks like\n",
    "\n",
    "print(\"Example: Working with requests library\")\n",
    "print(\"\"\"\n",
    "# If you had requests installed, you could do:\n",
    "import requests\n",
    "\n",
    "response = requests.get(\"https://api.github.com\")\n",
    "if response.status_code == 200:\n",
    "    data = response.json()\n",
    "    print(f\"GitHub API rate limit: {data.get('rate', {}).get('limit', 'Unknown')}\")\n",
    "else:\n",
    "    print(f\"Failed to fetch data: {response.status_code}\")\n",
    "\"\"\")\n",
    "\n",
    "print(\"\\nExample: Working with pandas library\")\n",
    "print(\"\"\"\n",
    "# If you had pandas installed, you could do:\n",
    "import pandas as pd\n",
    "\n",
    "# Create a DataFrame\n",
    "data = {\n",
    "    'Name': ['Alice', 'Bob', 'Charlie'],\n",
    "    'Age': [25, 30, 35],\n",
    "    'City': ['New York', 'London', 'Tokyo']\n",
    "}\n",
    "df = pd.DataFrame(data)\n",
    "print(df)\n",
    "\n",
    "# Read from CSV\n",
    "# df = pd.read_csv('data.csv')\n",
    "\n",
    "# Basic statistics\n",
    "# print(df.describe())\n",
    "\"\"\")"
   ]
  },
  {
   "cell_type": "code",
   "execution_count": null,
   "id": "6d85bf4d",
   "metadata": {},
   "outputs": [],
   "source": [
    "# Let's create some sample data to work with\n",
    "import csv\n",
    "\n",
    "# Create a sample CSV file\n",
    "sample_data = [\n",
    "    ['Name', 'Age', 'City', 'Salary'],\n",
    "    ['Alice', '25', 'New York', '75000'],\n",
    "    ['Bob', '30', 'London', '65000'],\n",
    "    ['Charlie', '35', 'Tokyo', '80000'],\n",
    "    ['Diana', '28', 'Paris', '70000'],\n",
    "    ['Eve', '32', 'Sydney', '72000']\n",
    "]\n",
    "\n",
    "with open('sample_data.csv', 'w', newline='') as f:\n",
    "    writer = csv.writer(f)\n",
    "    writer.writerows(sample_data)\n",
    "\n",
    "print(\"Created sample_data.csv\")\n",
    "\n",
    "# Read and process the CSV file using built-in modules\n",
    "with open('sample_data.csv', 'r') as f:\n",
    "    reader = csv.DictReader(f)\n",
    "    data = list(reader)\n",
    "\n",
    "print(\"\\nData from CSV file:\")\n",
    "for row in data:\n",
    "    print(f\"{row['Name']}: {row['Age']} years old, lives in {row['City']}\")\n",
    "\n",
    "# Calculate average salary\n",
    "salaries = [int(row['Salary']) for row in data]\n",
    "avg_salary = sum(salaries) / len(salaries)\n",
    "print(f\"\\nAverage salary: ${avg_salary:,.2f}\")"
   ]
  },
  {
   "cell_type": "markdown",
   "id": "2fa53eee",
   "metadata": {},
   "source": [
    "## 7. Module Search Path and PYTHONPATH\n",
    "\n",
    "Understanding how Python finds modules is important for organizing your code."
   ]
  },
  {
   "cell_type": "code",
   "execution_count": 2,
   "id": "ea076bbf",
   "metadata": {},
   "outputs": [
    {
     "name": "stdout",
     "output_type": "stream",
     "text": [
      "Python module search path:\n",
      "1: /opt/homebrew/Cellar/python@3.13/3.13.5/Frameworks/Python.framework/Versions/3.13/lib/python313.zip\n",
      "2: /opt/homebrew/Cellar/python@3.13/3.13.5/Frameworks/Python.framework/Versions/3.13/lib/python3.13\n",
      "3: /opt/homebrew/Cellar/python@3.13/3.13.5/Frameworks/Python.framework/Versions/3.13/lib/python3.13/lib-dynload\n",
      "4: \n",
      "5: /Users/ivy.long/Workplace/courses/Python/.venv/lib/python3.13/site-packages\n",
      "\n",
      "Python executable: /Users/ivy.long/Workplace/courses/Python/.venv/bin/python\n",
      "Python version: 3.13.5 (main, Jun 11 2025, 15:36:57) [Clang 17.0.0 (clang-1700.0.13.3)]\n"
     ]
    }
   ],
   "source": [
    "import sys\n",
    "\n",
    "print(\"Python module search path:\")\n",
    "for i, path in enumerate(sys.path, 1):\n",
    "    print(f\"{i}: {path}\")\n",
    "\n",
    "print(f\"\\nPython executable: {sys.executable}\")\n",
    "print(f\"Python version: {sys.version}\")"
   ]
  },
  {
   "cell_type": "markdown",
   "id": "62476896",
   "metadata": {},
   "source": [
    "# how to understand the output of the above\n",
    "\n",
    "\n",
    "Python module search path:\n",
    "0. /opt/homebrew/Cellar/python@3.13/3.13.5/Frameworks/Python.framework/Versions/3.13/lib/python313.zip\n",
    "1. /opt/homebrew/Cellar/python@3.13/3.13.5/Frameworks/Python.framework/Versions/3.13/lib/python3.13\n",
    "2. /opt/homebrew/Cellar/python@3.13/3.13.5/Frameworks/Python.framework/Versions/3.13/lib/python3.13/lib-dynload\n",
    "3. \n",
    "4. /Users/ivy.long/Workplace/courses/Python/.venv/lib/python3.13/site-packages\n",
    "\n",
    "Python executable: /Users/ivy.long/Workplace/courses/Python/.venv/bin/python\n",
    "Python version: 3.13.5 (main, Jun 11 2025, 15:36:57) [Clang 17.0.0 (clang-1700.0.13.3)]"
   ]
  },
  {
   "cell_type": "markdown",
   "id": "9a35ff40",
   "metadata": {},
   "source": [
    "## 8. Best Practices for Modules and Packages\n",
    "\n",
    "Here are some important best practices to follow:\n",
    "\n",
    "### Module Organization\n",
    "- Keep modules focused on a single purpose\n",
    "- Use descriptive names for modules and functions\n",
    "- Include docstrings for all functions and modules\n",
    "- Use `if __name__ == \"__main__\":` for code that should only run when the module is executed directly\n",
    "\n",
    "### Import Guidelines\n",
    "- Import standard library modules first\n",
    "- Then import third-party modules\n",
    "- Finally import your own modules\n",
    "- Use absolute imports when possible\n",
    "- Avoid `from module import *` except in special cases"
   ]
  },
  {
   "cell_type": "code",
   "execution_count": null,
   "id": "e5c99f2d",
   "metadata": {},
   "outputs": [],
   "source": [
    "# Example of good import organization\n",
    "print(\"Example of well-organized imports:\")\n",
    "print(\"\"\"\n",
    "# Standard library imports\n",
    "import os\n",
    "import sys\n",
    "import datetime\n",
    "from collections import defaultdict\n",
    "\n",
    "# Third-party imports\n",
    "import requests\n",
    "import pandas as pd\n",
    "import numpy as np\n",
    "\n",
    "# Local application imports\n",
    "from . import my_module\n",
    "from .utils import helper_functions\n",
    "\"\"\")"
   ]
  },
  {
   "cell_type": "markdown",
   "id": "ab7ea89d",
   "metadata": {},
   "source": [
    "## Exercises\n",
    "\n",
    "Let's practice what we've learned with some hands-on exercises!"
   ]
  },
  {
   "cell_type": "markdown",
   "id": "87d62a8e",
   "metadata": {},
   "source": [
    "### 1. Importing Modules\n",
    "- Use the `random` module to pick a random name from a list of five."
   ]
  },
  {
   "cell_type": "code",
   "execution_count": null,
   "id": "2c7ed299",
   "metadata": {},
   "outputs": [],
   "source": [
    "# Your solution here\n"
   ]
  },
  {
   "cell_type": "markdown",
   "id": "81a4ef55",
   "metadata": {},
   "source": [
    "### 2. Creating Your Own Module\n",
    "- Create a file `math_utils.py` with a function `add(a, b)` that returns the sum.\n",
    "- Import and use this function from this notebook."
   ]
  },
  {
   "cell_type": "code",
   "execution_count": null,
   "id": "7ad6a29c",
   "metadata": {},
   "outputs": [],
   "source": [
    "# Your solution here\n"
   ]
  },
  {
   "cell_type": "markdown",
   "id": "58fd5529",
   "metadata": {},
   "source": [
    "### 3. Standard Library Exploration\n",
    "- Use the `datetime` module to print today's date in `YYYY-MM-DD` format.\n",
    "- Use the `collections.Counter` class to count letters in a word."
   ]
  },
  {
   "cell_type": "code",
   "execution_count": null,
   "id": "6e6109cc",
   "metadata": {},
   "outputs": [],
   "source": [
    "# Your solution here\n"
   ]
  },
  {
   "cell_type": "markdown",
   "id": "409092cc",
   "metadata": {},
   "source": [
    "### 4. Working with JSON\n",
    "- Create a dictionary representing a book (title, author, year, pages).\n",
    "- Save it to a JSON file and then read it back."
   ]
  },
  {
   "cell_type": "code",
   "execution_count": null,
   "id": "711eb29a",
   "metadata": {},
   "outputs": [],
   "source": [
    "# Your solution here\n"
   ]
  },
  {
   "cell_type": "markdown",
   "id": "c11601b9",
   "metadata": {},
   "source": [
    "### 5. File Operations with OS Module\n",
    "- Use the `os` module to list all `.py` files in the current directory.\n",
    "- Display their file sizes."
   ]
  },
  {
   "cell_type": "code",
   "execution_count": null,
   "id": "1ec2abaa",
   "metadata": {},
   "outputs": [],
   "source": [
    "# Your solution here\n"
   ]
  },
  {
   "cell_type": "markdown",
   "id": "ba0f24fe",
   "metadata": {},
   "source": [
    "## Cleanup\n",
    "\n",
    "Let's clean up the files we created during this lesson."
   ]
  },
  {
   "cell_type": "code",
   "execution_count": null,
   "id": "bd3729e1",
   "metadata": {},
   "outputs": [],
   "source": [
    "import os\n",
    "\n",
    "# List of files we created\n",
    "files_to_remove = [\n",
    "    'greetings.py',\n",
    "    'math_utils.py', \n",
    "    'student_data.json',\n",
    "    'requirements.txt',\n",
    "    'sample_data.csv'\n",
    "]\n",
    "\n",
    "print(\"Cleaning up created files:\")\n",
    "for filename in files_to_remove:\n",
    "    if os.path.exists(filename):\n",
    "        os.remove(filename)\n",
    "        print(f\"Removed: {filename}\")\n",
    "    else:\n",
    "        print(f\"File not found: {filename}\")\n",
    "\n",
    "print(\"\\nCleanup complete!\")"
   ]
  },
  {
   "cell_type": "markdown",
   "id": "e8781aff",
   "metadata": {},
   "source": [
    "## Key Takeaways\n",
    "\n",
    "- **Modules and packages** help you organize code and use code written by others\n",
    "- **Python's standard library** covers most common programming needs\n",
    "- **Virtual environments** and **pip** make it easy to manage project dependencies\n",
    "- **Third-party libraries** dramatically expand what Python can do\n",
    "- **Good import practices** make your code more readable and maintainable\n",
    "- **Understanding the module search path** helps with debugging import issues\n",
    "\n",
    "### Next Steps\n",
    "\n",
    "1. Practice creating your own modules for common tasks\n",
    "2. Explore the Python Package Index (PyPI) at https://pypi.org/\n",
    "3. Learn about creating your own packages for distribution\n",
    "4. Experiment with popular libraries like requests, pandas, numpy, and matplotlib\n",
    "5. Set up virtual environments for your projects\n",
    "\n",
    "Modules and packages are fundamental to writing scalable Python applications. Master these concepts, and you'll be able to build much more sophisticated programs!"
   ]
  }
 ],
 "metadata": {
  "kernelspec": {
   "display_name": ".venv",
   "language": "python",
   "name": "python3"
  },
  "language_info": {
   "codemirror_mode": {
    "name": "ipython",
    "version": 3
   },
   "file_extension": ".py",
   "mimetype": "text/x-python",
   "name": "python",
   "nbconvert_exporter": "python",
   "pygments_lexer": "ipython3",
   "version": "3.13.5"
  }
 },
 "nbformat": 4,
 "nbformat_minor": 5
}
