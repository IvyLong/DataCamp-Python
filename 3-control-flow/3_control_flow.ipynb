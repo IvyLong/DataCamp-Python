{
    "cells": [
        {
            "cell_type": "markdown",
            "metadata": {},
            "source": [
                "# Control Flow in Python\n",
                "\n",
                "## Learning Objectives\n",
                "By the end of this section, you will be able to:\n",
                "- Write conditional statements using `if`, `elif`, and `else`\n",
                "- Create and use `for` and `while` loops\n",
                "- Control program flow with `break`, `continue`, and `pass` statements\n",
                "- Use the new `match` statement (Python 3.10+) for pattern matching"
            ]
        },
        {
            "cell_type": "markdown",
            "metadata": {},
            "source": [
                "## Conditional Statements\n",
                "\n",
                "Conditional statements allow your program to make decisions based on certain conditions."
            ]
        },
        {
            "cell_type": "markdown",
            "metadata": {},
            "source": [
                "### Basic `if` Statement"
            ]
        },
        {
            "cell_type": "code",
            "execution_count": null,
            "metadata": {},
            "outputs": [],
            "source": [
                "# Basic if statement syntax\n",
                "if True:\n",
                "    # code to execute if condition is True\n",
                "    print('This block runs because the condition is True')"
            ]
        },
        {
            "cell_type": "code",
            "execution_count": null,
            "metadata": {},
            "outputs": [],
            "source": [
                "age = 20\n",
                "\n",
                "if age >= 18:\n",
                "    print(\"You are an adult.\")\n",
                "    print(\"You can vote.\")\n",
                "\n",
                "print(\"This will print regardless of the condition.\")"
            ]
        },
        {
            "cell_type": "markdown",
            "metadata": {},
            "source": [
                "### `if-else` Statement"
            ]
        },
        {
            "cell_type": "code",
            "execution_count": null,
            "metadata": {},
            "outputs": [],
            "source": [
                "age = 15\n",
                "\n",
                "if age >= 18:\n",
                "    print(\"You are an adult.\")\n",
                "    print(\"You can vote.\")\n",
                "else:\n",
                "    print(\"You are a minor.\")\n",
                "    print(\"You cannot vote yet.\")"
            ]
        },
        {
            "cell_type": "markdown",
            "metadata": {},
            "source": [
                "### `if-elif-else` Statement"
            ]
        },
        {
            "cell_type": "code",
            "execution_count": null,
            "metadata": {},
            "outputs": [],
            "source": [
                "score = 85\n",
                "\n",
                "if score >= 90:\n",
                "    grade = \"A\"\n",
                "elif score >= 80:\n",
                "    grade = \"B\"\n",
                "elif score >= 70:\n",
                "    grade = \"C\"\n",
                "elif score >= 60:\n",
                "    grade = \"D\"\n",
                "else:\n",
                "    grade = \"F\"\n",
                "\n",
                "print(f\"Your grade is: {grade}\")"
            ]
        },
        {
            "cell_type": "markdown",
            "metadata": {},
            "source": [
                "### Nested Conditionals"
            ]
        },
        {
            "cell_type": "code",
            "execution_count": null,
            "metadata": {},
            "outputs": [],
            "source": [
                "weather = \"sunny\"\n",
                "temperature = 28  # Celsius\n",
                "\n",
                "if weather == \"sunny\":\n",
                "    print(\"It's a sunny day!\")\n",
                "    if temperature > 25:\n",
                "        print(\"It's hot outside.\")\n",
                "    else:\n",
                "        print(\"It's warm but pleasant.\")\n",
                "elif weather == \"rainy\":\n",
                "    print(\"Don't forget your umbrella!\")\n",
                "else:\n",
                "    print(\"Check the weather forecast.\")"
            ]
        },
        {
            "cell_type": "markdown",
            "metadata": {},
            "source": [
                "### Conditional Expressions (Ternary Operator)"
            ]
        },
        {
            "cell_type": "code",
            "execution_count": null,
            "metadata": {},
            "outputs": [],
            "source": [
                "age = 20\n",
                "status = \"adult\" if age >= 18 else \"minor\"\n",
                "print(status)  # Output: adult"
            ]
        },
        {
            "cell_type": "markdown",
            "metadata": {},
            "source": [
                "### Quiz\n",
                "#### Program 1"
            ]
        },
        {
            "cell_type": "code",
            "execution_count": null,
            "metadata": {},
            "outputs": [],
            "source": [
                "score = 95\n",
                "if score >= 80:\n",
                "    grade = \"A\"\n",
                "elif score >= 90:\n",
                "    grade = \"B\"\n",
                "elif score >= 70:\n",
                "    grade = \"C\"\n",
                "elif score >= 60:\n",
                "    grade = \"D\"\n",
                "else:\n",
                "    grade = \"F\"\n",
                "print(f\"Your grade is: {grade}\")"
            ]
        },
        {
            "cell_type": "markdown",
            "metadata": {},
            "source": [
                "#### Program 2"
            ]
        },
        {
            "cell_type": "code",
            "execution_count": null,
            "metadata": {},
            "outputs": [],
            "source": [
                "score = 95\n",
                "if score >= 80:\n",
                "    grade = \"A\"\n",
                "if score >= 90:\n",
                "    grade = \"B\"\n",
                "if score >= 70:\n",
                "    grade = \"C\"\n",
                "if score >= 60:\n",
                "    grade = \"D\"\n",
                "else:\n",
                "    grade = \"F\"\n",
                "print(f\"Your grade is: {grade}\")"
            ]
        },
        {
            "cell_type": "markdown",
            "metadata": {},
            "source": [
                "## Loops\n",
                "\n",
                "Loops allow you to execute a block of code multiple times."
            ]
        },
        {
            "cell_type": "markdown",
            "metadata": {},
            "source": [
                "### `for` Loops"
            ]
        },
        {
            "cell_type": "code",
            "execution_count": null,
            "metadata": {},
            "outputs": [],
            "source": [
                "# Basic for loop syntax\n",
                "for item in [1, 2, 3]:\n",
                "    print(item)"
            ]
        },
        {
            "cell_type": "markdown",
            "metadata": {},
            "source": [
                "#### Iterating Through Ranges"
            ]
        },
        {
            "cell_type": "code",
            "execution_count": null,
            "metadata": {},
            "outputs": [],
            "source": [
                "# range(stop): 0 to stop-1\n",
                "for i in range(5):\n",
                "    print(i)  # Outputs: 0, 1, 2, 3, 4\n",
                "\n",
                "# range(start, stop): start to stop-1\n",
                "for i in range(2, 6):\n",
                "    print(i)  # Outputs: 2, 3, 4, 5\n",
                "\n",
                "# range(start, stop, step): with custom step\n",
                "for i in range(0, 10, 2):\n",
                "    print(i)  # Outputs: 0, 2, 4, 6, 8"
            ]
        },
        {
            "cell_type": "markdown",
            "metadata": {},
            "source": [
                "#### Iterating Through Collections"
            ]
        },
        {
            "cell_type": "code",
            "execution_count": null,
            "metadata": {},
            "outputs": [],
            "source": [
                "# Iterating through a list\n",
                "fruits = [\"apple\", \"banana\", \"cherry\"]\n",
                "for fruit in fruits:\n",
                "    print(f\"I like {fruit}s\")\n",
                "\n",
                "# Iterating through a string\n",
                "for char in \"Python\":\n",
                "    print(char)\n",
                "\n",
                "# Iterating through a dictionary\n",
                "student = {\"name\": \"Alice\", \"age\": 20, \"grade\": \"A\"}\n",
                "\n",
                "# Iterating through keys (default)\n",
                "for key in student:\n",
                "    print(f\"{key}: {student[key]}\")\n",
                "\n",
                "# Iterating through key-value pairs\n",
                "for key, value in student.items():\n",
                "    print(f\"{key}: {value}\")"
            ]
        },
        {
            "cell_type": "markdown",
            "metadata": {},
            "source": [
                "#### Using `enumerate()` for Index and Value"
            ]
        },
        {
            "cell_type": "code",
            "execution_count": null,
            "metadata": {},
            "outputs": [],
            "source": [
                "fruits = [\"apple\", \"banana\", \"cherry\"]\n",
                "for index, fruit in enumerate(fruits):\n",
                "    print(f\"{index + 1}: {fruit}\")"
            ]
        },
        {
            "cell_type": "markdown",
            "metadata": {},
            "source": [
                "### `while` Loops"
            ]
        },
        {
            "cell_type": "code",
            "execution_count": null,
            "metadata": {},
            "outputs": [],
            "source": [
                "count = 1\n",
                "while count <= 5:\n",
                "    print(count)\n",
                "    count += 1  # Don't forget to update the condition variable!"
            ]
        },
        {
            "cell_type": "markdown",
            "metadata": {},
            "source": [
                "#### Infinite Loops"
            ]
        },
        {
            "cell_type": "code",
            "execution_count": null,
            "metadata": {},
            "outputs": [],
            "source": [
                "# WARNING: This is an infinite loop\n",
                "# while True:\n",
                "#     print(\"This will run forever!\")\n",
                "\n",
                "# Proper infinite loop with a way to exit\n",
                "# Uncomment to use interactively\n",
                "# while True:\n",
                "#     response = input(\"Continue? (yes/no): \")\n",
                "#     if response.lower() == \"no\":\n",
                "#         break  # Exit the loop"
            ]
        },
        {
            "cell_type": "markdown",
            "metadata": {},
            "source": [
                "## Loop Control Statements"
            ]
        },
        {
            "cell_type": "markdown",
            "metadata": {},
            "source": [
                "### The `break` Statement"
            ]
        },
        {
            "cell_type": "code",
            "execution_count": null,
            "metadata": {},
            "outputs": [],
            "source": [
                "# Using break in a for loop\n",
                "for i in range(10):\n",
                "    if i == 5:\n",
                "        print(\"Found 5! Breaking the loop.\")\n",
                "        break\n",
                "    print(i)\n",
                "# Outputs: 0, 1, 2, 3, 4, \"Found 5! Breaking the loop.\"\n",
                "\n",
                "# Using break in a while loop\n",
                "count = 0\n",
                "while True:\n",
                "    count += 1\n",
                "    if count > 5:\n",
                "        break\n",
                "    print(count)\n",
                "# Outputs: 1, 2, 3, 4, 5"
            ]
        },
        {
            "cell_type": "markdown",
            "metadata": {},
            "source": [
                "### The `continue` Statement"
            ]
        },
        {
            "cell_type": "code",
            "execution_count": null,
            "metadata": {},
            "outputs": [],
            "source": [
                "# Using continue in a for loop\n",
                "for i in range(10):\n",
                "    if i % 2 == 0:  # Skip even numbers\n",
                "        continue\n",
                "    print(i)\n",
                "# Outputs: 1, 3, 5, 7, 9\n",
                "\n",
                "# Using continue in a while loop\n",
                "count = 0\n",
                "while count < 10:\n",
                "    count += 1\n",
                "    if count % 2 == 0:  # Skip even numbers\n",
                "        continue\n",
                "    print(count)\n",
                "# Outputs: 1, 3, 5, 7, 9"
            ]
        },
        {
            "cell_type": "markdown",
            "metadata": {},
            "source": [
                "### The `pass` Statement"
            ]
        },
        {
            "cell_type": "code",
            "execution_count": null,
            "metadata": {},
            "outputs": [],
            "source": [
                "# Using pass as a placeholder\n",
                "for i in range(5):\n",
                "    if i == 3:\n",
                "        pass  # TODO: Add something here later\n",
                "    else:\n",
                "        print(i)"
            ]
        },
        {
            "cell_type": "markdown",
            "metadata": {},
            "source": [
                "## The `match` Statement (Python 3.10+)\n",
                "\n",
                "The `match` statement (introduced in Python 3.10) provides pattern matching similar to switch statements in other languages, but more powerful."
            ]
        },
        {
            "cell_type": "markdown",
            "metadata": {},
            "source": [
                "### Basic Match Statement"
            ]
        },
        {
            "cell_type": "code",
            "execution_count": null,
            "metadata": {},
            "outputs": [],
            "source": [
                "# Basic match statement syntax\n",
                "value = \"example\"\n",
                "match value:\n",
                "    case \"pattern1\":\n",
                "        print(\"Matched pattern1\")\n",
                "    case \"pattern2\":\n",
                "        print(\"Matched pattern2\")\n",
                "    case _:\n",
                "        print(\"No pattern matched\")"
            ]
        },
        {
            "cell_type": "code",
            "execution_count": null,
            "metadata": {},
            "outputs": [],
            "source": [
                "def day_type(day):\n",
                "    match day.lower():\n",
                "        case \"monday\":\n",
                "            return \"Start of work week\"\n",
                "        case \"tuesday\" | \"wednesday\" | \"thursday\":\n",
                "            return \"Midweek\"\n",
                "        case \"friday\":\n",
                "            return \"End of work week\"\n",
                "        case \"saturday\" | \"sunday\":\n",
                "            return \"Weekend\"\n",
                "        case _:\n",
                "            return \"Invalid day\"\n",
                "\n",
                "print(day_type(\"Monday\"))  # Start of work week\n",
                "print(day_type(\"Saturday\"))  # Weekend\n",
                "print(day_type(\"Holiday\"))  # Invalid day"
            ]
        },
        {
            "cell_type": "markdown",
            "metadata": {},
            "source": [
                "### Pattern Matching with Structures"
            ]
        },
        {
            "cell_type": "code",
            "execution_count": null,
            "metadata": {},
            "outputs": [],
            "source": [
                "def process_command(command):\n",
                "    match command.split():\n",
                "        case [\"quit\"]:\n",
                "            return \"Exiting program\"\n",
                "        case [\"load\", filename]:\n",
                "            return f\"Loading file: {filename}\"\n",
                "        case [\"save\", filename]:\n",
                "            return f\"Saving file: {filename}\"\n",
                "        case [\"search\", *keywords]:\n",
                "            return f\"Searching for: {' '.join(keywords)}\"\n",
                "        case _:\n",
                "            return \"Unknown command\"\n",
                "\n",
                "print(process_command(\"quit\"))  # Exiting program\n",
                "print(process_command(\"load data.txt\"))  # Loading file: data.txt\n",
                "print(process_command(\"search python tutorial\"))  # Searching for: python tutorial"
            ]
        },
        {
            "cell_type": "markdown",
            "metadata": {},
            "source": [
                "### Pattern Matching with Guards"
            ]
        },
        {
            "cell_type": "code",
            "execution_count": null,
            "metadata": {},
            "outputs": [],
            "source": [
                "def check_temperature(temp):\n",
                "    match temp:\n",
                "        case int() | float() as t if t < 0:\n",
                "            return \"Freezing\"\n",
                "        case int() | float() as t if 0 <= t < 20:\n",
                "            return \"Cold\"\n",
                "        case int() | float() as t if 20 <= t < 30:\n",
                "            return \"Pleasant\"\n",
                "        case int() | float() as t if t >= 30:\n",
                "            return \"Hot\"\n",
                "        case _:\n",
                "            return \"Invalid temperature\"\n",
                "\n",
                "print(check_temperature(-5))    # Freezing\n",
                "print(check_temperature(15))    # Cold\n",
                "print(check_temperature(25))    # Pleasant\n",
                "print(check_temperature(35))    # Hot\n",
                "print(check_temperature(\"35\"))  # Invalid temperature"
            ]
        },
        {
            "cell_type": "markdown",
            "metadata": {},
            "source": [
                "## Practice Exercises"
            ]
        },
        {
            "cell_type": "markdown",
            "metadata": {},
            "source": [
                "### Exercise 1: Conditional Statements\n",
                "Create a program that:\n",
                "1. Asks the user for their age\n",
                "2. Determines and prints which category they fall into:\n",
                "   - Child (0-12)\n",
                "   - Teenager (13-19)\n",
                "   - Adult (20-64)\n",
                "   - Senior (65+)\n",
                "3. If the age is negative or over 120, print an error message"
            ]
        },
        {
            "cell_type": "code",
            "execution_count": null,
            "metadata": {},
            "outputs": [],
            "source": []
        },
        {
            "cell_type": "markdown",
            "metadata": {},
            "source": [
                "### Exercise 2: Nested Loops\n",
                "Create a program that:\n",
                "1. Prints a multiplication table for numbers 1 through 5\n",
                "2. Format the output so it's neatly aligned in rows and columns"
            ]
        },
        {
            "cell_type": "code",
            "execution_count": null,
            "metadata": {},
            "outputs": [],
            "source": []
        },
        {
            "cell_type": "markdown",
            "metadata": {},
            "source": [
                "### Exercise 3: Loop Control Statements\n",
                "Create a program that:\n",
                "1. Asks the user for numbers, one at a time\n",
                "2. Continues asking until the user enters 0 (use a while loop)\n",
                "3. Skips negative numbers (using continue)\n",
                "4. Exits immediately if the user enters 999 (using break)\n",
                "5. At the end, prints the sum of all positive numbers entered"
            ]
        },
        {
            "cell_type": "code",
            "execution_count": null,
            "metadata": {},
            "outputs": [],
            "source": []
        },
        {
            "cell_type": "markdown",
            "metadata": {},
            "source": [
                "### Exercise 4: Match Statement (Python 3.10+)\n",
                "Create a simple calculator program that:\n",
                "1. Asks the user for two numbers\n",
                "2. Asks for an operation (add, subtract, multiply, divide)\n",
                "3. Uses a match statement to perform the requested operation\n",
                "4. Handles division by zero appropriately\n",
                "5. Returns an error for unknown operations"
            ]
        },
        {
            "cell_type": "code",
            "execution_count": null,
            "metadata": {},
            "outputs": [],
            "source": []
        },
        {
            "cell_type": "markdown",
            "metadata": {},
            "source": [
                "## Key Takeaways\n",
                "- Conditional statements allow your program to make decisions based on conditions\n",
                "- Loops provide a way to repeat code execution\n",
                "- `break` exits a loop completely, `continue` skips to the next iteration, and `pass` is a placeholder\n",
                "- The `match` statement (Python 3.10+) offers powerful pattern matching capabilities\n",
                "- Always ensure that loops have a way to terminate to avoid infinite loops\n",
                "- Indentation is critical in Python for defining the structure of conditional statements and loops"
            ]
        },
        {
            "cell_type": "markdown",
            "metadata": {},
            "source": [
                "## Next Steps\n",
                "Now that you understand Python's control flow mechanisms, you're ready to explore data structures like lists, tuples, and dictionaries!"
            ]
        }
    ],
    "metadata": {
        "kernelspec": {
            "display_name": ".venv",
            "language": "python",
            "name": "python3"
        },
        "language_info": {
            "codemirror_mode": {
                "name": "ipython",
                "version": 3
            },
            "file_extension": ".py",
            "mimetype": "text/x-python",
            "name": "python",
            "nbconvert_exporter": "python",
            "pygments_lexer": "ipython3",
            "version": "3.13.3"
        }
    },
    "nbformat": 4,
    "nbformat_minor": 2
}
