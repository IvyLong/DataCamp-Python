{
 "cells": [
  {
   "cell_type": "markdown",
   "id": "1ade62fd",
   "metadata": {},
   "source": [
    "# Python Workshop: File Handling\n",
    "\n",
    "## Learning Objectives\n",
    "\n",
    "By the end of this section, you will be able to:\n",
    "- Open and read from files in Python\n",
    "- Write data to files\n",
    "- Use context managers to ensure files are properly opened and closed\n",
    "- Understand different file modes and their use cases\n",
    "- Handle exceptions related to file operations"
   ]
  },
  {
   "cell_type": "markdown",
   "id": "9d1aad0b",
   "metadata": {},
   "source": [
    "## 1. Introduction to Files\n",
    "\n",
    "Python makes it easy to work with files. Files can be text files or binary files and are used for storing data permanently."
   ]
  },
  {
   "cell_type": "markdown",
   "id": "f71614d3",
   "metadata": {},
   "source": [
    "### Different Modes for Opening Files\n",
    "\n",
    "- **'r'**: Read (default) - Opens file for reading\n",
    "- **'w'**: Write - Opens file for writing (overwrites if exists)\n",
    "- **'a'**: Append - Opens file for appending (adds to end)\n",
    "- **'x'**: Create - Creates a new file (fails if exists)\n",
    "- **'b'**: Binary mode - Use with other modes (e.g., 'rb', 'wb')\n",
    "- **'t'**: Text mode - Default text mode\n",
    "- **'+'**: Read and write mode\n",
    "\n",
    "Let's explore these modes with examples."
   ]
  },
  {
   "cell_type": "code",
   "execution_count": null,
   "id": "d8dd88a8",
   "metadata": {},
   "outputs": [],
   "source": [
    "# Let's create a sample file first to work with\n",
    "sample_content = \"\"\"Line 1: Welcome to Python file handling!\n",
    "Line 2: This is a sample text file.\n",
    "Line 3: We'll use this for demonstration.\n",
    "Line 4: Python makes file handling easy.\n",
    "Line 5: Remember to always close your files!\n",
    "\"\"\"\n",
    "\n",
    "# Create a sample file\n",
    "with open('sample.txt', 'w') as file:\n",
    "    file.write(sample_content)\n",
    "\n",
    "print(\"Created sample.txt with content:\")\n",
    "print(sample_content)"
   ]
  },
  {
   "cell_type": "markdown",
   "id": "5d63a2c1",
   "metadata": {},
   "source": [
    "## 2. Reading from Files\n",
    "\n",
    "There are several ways to read from files in Python. Let's explore the most common methods."
   ]
  },
  {
   "cell_type": "markdown",
   "id": "61a67243",
   "metadata": {},
   "source": [
    "### Basic File Reading (Not Recommended)"
   ]
  },
  {
   "cell_type": "code",
   "execution_count": null,
   "id": "5f1d967c",
   "metadata": {},
   "outputs": [],
   "source": [
    "# Basic file reading - NOT recommended because file might not be closed properly\n",
    "print(\"Basic file reading (without 'with' statement):\")\n",
    "file = open('sample.txt', 'r')\n",
    "content = file.read()  # Reads the whole file\n",
    "print(content)\n",
    "file.close()  # Don't forget to close!\n",
    "\n",
    "print(\"File closed successfully\")"
   ]
  },
  {
   "cell_type": "markdown",
   "id": "55702f22",
   "metadata": {},
   "source": [
    "### Reading with Context Manager (Recommended)"
   ]
  },
  {
   "cell_type": "code",
   "execution_count": null,
   "id": "ba16c511",
   "metadata": {},
   "outputs": [],
   "source": [
    "# Using 'with' statement - RECOMMENDED approach\n",
    "print(\"Reading entire file with 'with' statement:\")\n",
    "with open('sample.txt', 'r') as file:\n",
    "    content = file.read()\n",
    "    print(content)\n",
    "# File is automatically closed when exiting the 'with' block\n",
    "\n",
    "print(\"File automatically closed after 'with' block\")"
   ]
  },
  {
   "cell_type": "markdown",
   "id": "750e8615",
   "metadata": {},
   "source": [
    "### Different Reading Methods"
   ]
  },
  {
   "cell_type": "code",
   "execution_count": null,
   "id": "da13cf5a",
   "metadata": {},
   "outputs": [],
   "source": [
    "print(\"1. Reading entire file with read():\")\n",
    "with open('sample.txt', 'r') as file:\n",
    "    content = file.read()\n",
    "    print(repr(content))  # repr shows \\n characters\n",
    "\n",
    "print(\"\\n2. Reading all lines into a list with readlines():\")\n",
    "with open('sample.txt', 'r') as file:\n",
    "    lines = file.readlines()\n",
    "    print(f\"Number of lines: {len(lines)}\")\n",
    "    for i, line in enumerate(lines, 1):\n",
    "        print(f\"Line {i}: {repr(line)}\")\n",
    "\n",
    "print(\"\\n3. Reading one line at a time with readline():\")\n",
    "with open('sample.txt', 'r') as file:\n",
    "    line_num = 1\n",
    "    while True:\n",
    "        line = file.readline()\n",
    "        if not line:  # End of file\n",
    "            break\n",
    "        print(f\"Line {line_num}: {line.strip()}\")\n",
    "        line_num += 1"
   ]
  },
  {
   "cell_type": "markdown",
   "id": "75d8046f",
   "metadata": {},
   "source": [
    "### Reading Line by Line (Memory Efficient)"
   ]
  },
  {
   "cell_type": "code",
   "execution_count": null,
   "id": "f54770d1",
   "metadata": {},
   "outputs": [],
   "source": [
    "print(\"Iterating through file line by line (most efficient):\")\n",
    "with open('sample.txt', 'r') as file:\n",
    "    for line_num, line in enumerate(file, 1):\n",
    "        print(f\"Line {line_num}: {line.strip()}\")\n",
    "\n",
    "print(\"\\nThis method is memory-efficient for large files!\")"
   ]
  },
  {
   "cell_type": "markdown",
   "id": "760e5328",
   "metadata": {},
   "source": [
    "### Reading Specific Number of Characters"
   ]
  },
  {
   "cell_type": "code",
   "execution_count": null,
   "id": "d8dd434f",
   "metadata": {},
   "outputs": [],
   "source": [
    "print(\"Reading specific number of characters:\")\n",
    "with open('sample.txt', 'r') as file:\n",
    "    # Read first 20 characters\n",
    "    chunk1 = file.read(20)\n",
    "    print(f\"First 20 characters: {repr(chunk1)}\")\n",
    "    \n",
    "    # Read next 15 characters\n",
    "    chunk2 = file.read(15)\n",
    "    print(f\"Next 15 characters: {repr(chunk2)}\")\n",
    "    \n",
    "    # Read the rest\n",
    "    rest = file.read()\n",
    "    print(f\"Rest of the file: {repr(rest[:50])}...\")  # Show first 50 chars"
   ]
  },
  {
   "cell_type": "markdown",
   "id": "a5ca7e7c",
   "metadata": {},
   "source": [
    "## 3. Writing to Files\n",
    "\n",
    "Writing to files is straightforward in Python. Let's explore different writing modes."
   ]
  },
  {
   "cell_type": "markdown",
   "id": "18fffbcc",
   "metadata": {},
   "source": [
    "### Writing to a New File"
   ]
  },
  {
   "cell_type": "code",
   "execution_count": null,
   "id": "0f335cd7",
   "metadata": {},
   "outputs": [],
   "source": [
    "# Writing to a new file (or overwriting existing file)\n",
    "print(\"Writing to output.txt:\")\n",
    "with open('output.txt', 'w') as file:\n",
    "    file.write(\"Hello, World!\\n\")\n",
    "    file.write(\"Python is great for file handling.\\n\")\n",
    "    file.write(\"This file was created using Python.\\n\")\n",
    "\n",
    "# Verify the content\n",
    "print(\"Content of output.txt:\")\n",
    "with open('output.txt', 'r') as file:\n",
    "    print(file.read())"
   ]
  },
  {
   "cell_type": "markdown",
   "id": "7c35c889",
   "metadata": {},
   "source": [
    "### Writing Multiple Lines at Once"
   ]
  },
  {
   "cell_type": "code",
   "execution_count": null,
   "id": "0a983b81",
   "metadata": {},
   "outputs": [],
   "source": [
    "# Writing multiple lines using writelines()\n",
    "lines_to_write = [\n",
    "    \"This is line 1\\n\",\n",
    "    \"This is line 2\\n\",\n",
    "    \"This is line 3\\n\",\n",
    "    \"This is the final line\\n\"\n",
    "]\n",
    "\n",
    "with open('multiple_lines.txt', 'w') as file:\n",
    "    file.writelines(lines_to_write)\n",
    "\n",
    "print(\"Content of multiple_lines.txt:\")\n",
    "with open('multiple_lines.txt', 'r') as file:\n",
    "    print(file.read())"
   ]
  },
  {
   "cell_type": "markdown",
   "id": "f42ccad9",
   "metadata": {},
   "source": [
    "### Appending to Files"
   ]
  },
  {
   "cell_type": "code",
   "execution_count": null,
   "id": "c77d14e5",
   "metadata": {},
   "outputs": [],
   "source": [
    "# Appending to an existing file\n",
    "print(\"Before appending - output.txt content:\")\n",
    "with open('output.txt', 'r') as file:\n",
    "    print(file.read())\n",
    "\n",
    "print(\"Appending new content...\")\n",
    "with open('output.txt', 'a') as file:\n",
    "    file.write(\"This line is appended to the file.\\n\")\n",
    "    file.write(\"So is this one!\\n\")\n",
    "\n",
    "print(\"After appending - output.txt content:\")\n",
    "with open('output.txt', 'r') as file:\n",
    "    print(file.read())"
   ]
  },
  {
   "cell_type": "markdown",
   "id": "6d0d0e72",
   "metadata": {},
   "source": [
    "### Writing Data Types Other Than Strings"
   ]
  },
  {
   "cell_type": "code",
   "execution_count": null,
   "id": "9468cc3e",
   "metadata": {},
   "outputs": [],
   "source": [
    "# Writing numbers and other data types (must convert to string)\n",
    "import datetime\n",
    "\n",
    "data_to_write = [\n",
    "    (\"Name\", \"Alice\"),\n",
    "    (\"Age\", 25),\n",
    "    (\"Score\", 95.5),\n",
    "    (\"Date\", datetime.date.today()),\n",
    "    (\"Active\", True)\n",
    "]\n",
    "\n",
    "with open('mixed_data.txt', 'w') as file:\n",
    "    file.write(\"Mixed Data File\\n\")\n",
    "    file.write(\"=\"*20 + \"\\n\")\n",
    "    for key, value in data_to_write:\n",
    "        file.write(f\"{key}: {value}\\n\")\n",
    "\n",
    "print(\"Content of mixed_data.txt:\")\n",
    "with open('mixed_data.txt', 'r') as file:\n",
    "    print(file.read())"
   ]
  },
  {
   "cell_type": "markdown",
   "id": "a4a40cf0",
   "metadata": {},
   "source": [
    "## 4. Working with Different File Types\n",
    "\n",
    "Let's explore working with various file formats commonly used in Python."
   ]
  },
  {
   "cell_type": "markdown",
   "id": "7e9911ca",
   "metadata": {},
   "source": [
    "### Working with CSV Files"
   ]
  },
  {
   "cell_type": "code",
   "execution_count": null,
   "id": "3a7313d9",
   "metadata": {},
   "outputs": [],
   "source": [
    "import csv\n",
    "\n",
    "# Writing CSV data\n",
    "csv_data = [\n",
    "    ['Name', 'Age', 'City', 'Salary'],\n",
    "    ['Alice', '25', 'New York', '75000'],\n",
    "    ['Bob', '30', 'London', '65000'],\n",
    "    ['Charlie', '35', 'Tokyo', '80000'],\n",
    "    ['Diana', '28', 'Paris', '70000']\n",
    "]\n",
    "\n",
    "# Write CSV file\n",
    "with open('employees.csv', 'w') as file:\n",
    "    writer = csv.writer(file)\n",
    "    writer.writerows(csv_data)\n",
    "\n",
    "print(\"Created employees.csv\")\n",
    "\n",
    "# Read CSV file\n",
    "print(\"Reading CSV file:\")\n",
    "with open('employees.csv', 'r') as file:\n",
    "    reader = csv.reader(file)\n",
    "    for row_num, row in enumerate(reader, 1):\n",
    "        print(f\"Row {row_num}: {row}\")\n",
    "\n",
    "# Read CSV as dictionary\n",
    "print(\"\\nReading CSV as dictionary:\")\n",
    "with open('employees.csv', 'r') as file:\n",
    "    dict_reader = csv.DictReader(file)\n",
    "    for row in dict_reader:\n",
    "        print(f\"{row['Name']}: {row['Age']} years old, earns ${row['Salary']}\")"
   ]
  },
  {
   "cell_type": "markdown",
   "id": "956746d9",
   "metadata": {},
   "source": [
    "### Working with JSON Files"
   ]
  },
  {
   "cell_type": "code",
   "execution_count": null,
   "id": "b4637b27",
   "metadata": {},
   "outputs": [],
   "source": [
    "import json\n",
    "\n",
    "# Creating sample data\n",
    "employee_data = {\n",
    "    \"employees\": [\n",
    "        {\n",
    "            \"id\": 1,\n",
    "            \"name\": \"Alice Johnson\",\n",
    "            \"position\": \"Software Developer\",\n",
    "            \"skills\": [\"Python\", \"JavaScript\", \"SQL\"],\n",
    "            \"salary\": 75000,\n",
    "            \"active\": True\n",
    "        },\n",
    "        {\n",
    "            \"id\": 2,\n",
    "            \"name\": \"Bob Smith\",\n",
    "            \"position\": \"Data Analyst\",\n",
    "            \"skills\": [\"Python\", \"R\", \"Excel\"],\n",
    "            \"salary\": 65000,\n",
    "            \"active\": True\n",
    "        },\n",
    "        {\n",
    "            \"id\": 3,\n",
    "            \"name\": \"Charlie Brown\",\n",
    "            \"position\": \"Project Manager\",\n",
    "            \"skills\": [\"Leadership\", \"Agile\", \"Communication\"],\n",
    "            \"salary\": 80000,\n",
    "            \"active\": False\n",
    "        }\n",
    "    ],\n",
    "    \"company\": \"TechCorp\",\n",
    "    \"last_updated\": \"2025-07-22\"\n",
    "}\n",
    "\n",
    "# Writing JSON data\n",
    "print(\"Writing JSON data to employees.json:\")\n",
    "with open('employees.json', 'w') as json_file:\n",
    "    json.dump(employee_data, json_file, indent=2)\n",
    "print(\"JSON file created successfully!\")\n",
    "\n",
    "# Reading JSON data\n",
    "print(\"\\nReading JSON data:\")\n",
    "with open('employees.json', 'r') as json_file:\n",
    "    loaded_data = json.load(json_file)\n",
    "\n",
    "print(f\"Company: {loaded_data['company']}\")\n",
    "print(f\"Last updated: {loaded_data['last_updated']}\")\n",
    "print(\"\\nEmployees:\")\n",
    "for employee in loaded_data['employees']:\n",
    "    status = \"Active\" if employee['active'] else \"Inactive\"\n",
    "    print(f\"- {employee['name']}: {employee['position']} (${employee['salary']:,}) - {status}\")\n",
    "    print(f\"  Skills: {', '.join(employee['skills'])}\")"
   ]
  },
  {
   "cell_type": "markdown",
   "id": "93d8ec6f",
   "metadata": {},
   "source": [
    "### Working with Text Files (Advanced)"
   ]
  },
  {
   "cell_type": "code",
   "execution_count": null,
   "id": "8f7abaf7",
   "metadata": {},
   "outputs": [],
   "source": [
    "# Working with different text encodings\n",
    "text_content = \"\"\"\n",
    "This file contains special characters:\n",
    "• Bullet points\n",
    "© Copyright symbol\n",
    "€ Euro symbol\n",
    "中文 (Chinese characters)\n",
    "🐍 Python emoji\n",
    "\"\"\"\n",
    "\n",
    "# Write with UTF-8 encoding\n",
    "with open('unicode_text.txt', 'w', encoding='utf-8') as file:\n",
    "    file.write(text_content)\n",
    "\n",
    "# Read with UTF-8 encoding\n",
    "print(\"Reading Unicode text file:\")\n",
    "with open('unicode_text.txt', 'r', encoding='utf-8') as file:\n",
    "    content = file.read()\n",
    "    print(content)\n",
    "\n",
    "# Get file information\n",
    "import os\n",
    "file_size = os.path.getsize('unicode_text.txt')\n",
    "print(f\"File size: {file_size} bytes\")"
   ]
  },
  {
   "cell_type": "markdown",
   "id": "b18c5956",
   "metadata": {},
   "source": [
    "### Working with Binary Files"
   ]
  },
  {
   "cell_type": "code",
   "execution_count": null,
   "id": "bc149b1d",
   "metadata": {},
   "outputs": [],
   "source": [
    "# Create a simple binary file (simulating image data)\n",
    "binary_data = bytes([0x89, 0x50, 0x4E, 0x47, 0x0D, 0x0A, 0x1A, 0x0A])  # PNG signature\n",
    "binary_data += b\"This is simulated binary data for demonstration.\" * 10\n",
    "\n",
    "# Write binary data\n",
    "with open('sample_binary.dat', 'wb') as file:\n",
    "    file.write(binary_data)\n",
    "\n",
    "print(f\"Created binary file with {len(binary_data)} bytes\")\n",
    "\n",
    "# Read binary data\n",
    "with open('sample_binary.dat', 'rb') as file:\n",
    "    read_data = file.read()\n",
    "    print(f\"Read {len(read_data)} bytes from binary file\")\n",
    "    print(f\"First 20 bytes: {read_data[:20]}\")\n",
    "    print(f\"As hex: {read_data[:20].hex()}\")\n",
    "\n",
    "# Read specific chunks of binary data\n",
    "print(\"\\nReading binary file in chunks:\")\n",
    "with open('sample_binary.dat', 'rb') as file:\n",
    "    chunk_size = 32\n",
    "    chunk_num = 1\n",
    "    while True:\n",
    "        chunk = file.read(chunk_size)\n",
    "        if not chunk:\n",
    "            break\n",
    "        print(f\"Chunk {chunk_num}: {len(chunk)} bytes\")\n",
    "        chunk_num += 1\n",
    "        if chunk_num > 3:  # Limit output for demo\n",
    "            break"
   ]
  },
  {
   "cell_type": "markdown",
   "id": "4466c973",
   "metadata": {},
   "source": [
    "## 5. Exception Handling in File Operations\n",
    "\n",
    "Proper error handling is crucial when working with files. Let's explore common scenarios and how to handle them."
   ]
  },
  {
   "cell_type": "markdown",
   "id": "7d7621bc",
   "metadata": {},
   "source": [
    "### Handling File Not Found Errors"
   ]
  },
  {
   "cell_type": "code",
   "execution_count": null,
   "id": "8e457f7a",
   "metadata": {},
   "outputs": [],
   "source": [
    "# Attempting to read a non-existent file\n",
    "print(\"Trying to read a non-existent file:\")\n",
    "try:\n",
    "    with open('non_existent_file.txt', 'r') as file:\n",
    "        content = file.read()\n",
    "        print(content)\n",
    "except FileNotFoundError:\n",
    "    print(\"❌ Error: The file does not exist!\")\n",
    "except IOError:\n",
    "    print(\"❌ Error: An I/O error occurred.\")\n",
    "\n",
    "print(\"Program continues running after handling the error.\")"
   ]
  },
  {
   "cell_type": "markdown",
   "id": "2e0e2636",
   "metadata": {},
   "source": [
    "### Handling Permission Errors"
   ]
  },
  {
   "cell_type": "code",
   "execution_count": null,
   "id": "ef3b766f",
   "metadata": {},
   "outputs": [],
   "source": [
    "# Simulating permission errors and other common issues\n",
    "import os\n",
    "\n",
    "def safe_file_operation(filename, mode='r'):\n",
    "    \"\"\"Safely perform file operations with comprehensive error handling.\"\"\"\n",
    "    try:\n",
    "        with open(filename, mode) as file:\n",
    "            if 'r' in mode:\n",
    "                return file.read()\n",
    "            elif 'w' in mode:\n",
    "                file.write(\"Test content\")\n",
    "                return f\"Successfully wrote to {filename}\"\n",
    "                \n",
    "    except FileNotFoundError:\n",
    "        return f\"❌ Error: File '{filename}' not found\"\n",
    "    except PermissionError:\n",
    "        return f\"❌ Error: Permission denied for '{filename}'\"\n",
    "    except IsADirectoryError:\n",
    "        return f\"❌ Error: '{filename}' is a directory, not a file\"\n",
    "    except IOError as e:\n",
    "        return f\"❌ I/O Error: {e}\"\n",
    "    except Exception as e:\n",
    "        return f\"❌ Unexpected error: {e}\"\n",
    "\n",
    "# Test various scenarios\n",
    "test_files = [\n",
    "    ('sample.txt', 'r'),  # Should work\n",
    "    ('missing_file.txt', 'r'),  # File not found\n",
    "    ('.', 'r'),  # Directory instead of file\n",
    "]\n",
    "\n",
    "for filename, mode in test_files:\n",
    "    result = safe_file_operation(filename, mode)\n",
    "    print(f\"Testing '{filename}': {result}\")"
   ]
  },
  {
   "cell_type": "markdown",
   "id": "8f7ae421",
   "metadata": {},
   "source": [
    "### Creating a Robust File Reader Function"
   ]
  },
  {
   "cell_type": "code",
   "execution_count": null,
   "id": "1cb3e849",
   "metadata": {},
   "outputs": [],
   "source": [
    "def robust_file_reader(filename, encoding='utf-8', max_size_mb=10):\n",
    "    \"\"\"\n",
    "    A robust function to read files with comprehensive error handling.\n",
    "    \n",
    "    Args:\n",
    "        filename (str): Path to the file\n",
    "        encoding (str): Text encoding to use\n",
    "        max_size_mb (int): Maximum file size in MB to read\n",
    "    \n",
    "    Returns:\n",
    "        tuple: (success: bool, content: str or error_message: str)\n",
    "    \"\"\"\n",
    "    try:\n",
    "        # Check if file exists\n",
    "        if not os.path.exists(filename):\n",
    "            return False, f\"File '{filename}' does not exist\"\n",
    "        \n",
    "        # Check if it's a file (not a directory)\n",
    "        if not os.path.isfile(filename):\n",
    "            return False, f\"'{filename}' is not a file\"\n",
    "        \n",
    "        # Check file size\n",
    "        file_size_mb = os.path.getsize(filename) / (1024 * 1024)\n",
    "        if file_size_mb > max_size_mb:\n",
    "            return False, f\"File too large: {file_size_mb:.2f}MB (max: {max_size_mb}MB)\"\n",
    "        \n",
    "        # Read the file\n",
    "        with open(filename, 'r', encoding=encoding) as file:\n",
    "            content = file.read()\n",
    "            return True, content\n",
    "            \n",
    "    except PermissionError:\n",
    "        return False, f\"Permission denied: Cannot read '{filename}'\"\n",
    "    except UnicodeDecodeError:\n",
    "        return False, f\"Encoding error: Cannot decode '{filename}' with {encoding}\"\n",
    "    except Exception as e:\n",
    "        return False, f\"Unexpected error: {str(e)}\"\n",
    "\n",
    "# Test the robust file reader\n",
    "test_files = ['sample.txt', 'employees.json', 'missing_file.txt']\n",
    "\n",
    "for filename in test_files:\n",
    "    success, result = robust_file_reader(filename)\n",
    "    if success:\n",
    "        print(f\"✅ Successfully read '{filename}': {len(result)} characters\")\n",
    "        print(f\"   Preview: {result[:100]}...\" if len(result) > 100 else f\"   Content: {result}\")\n",
    "    else:\n",
    "        print(f\"❌ Failed to read '{filename}': {result}\")\n",
    "    print()"
   ]
  },
  {
   "cell_type": "markdown",
   "id": "b6a8c836",
   "metadata": {},
   "source": [
    "## 6. File System Operations\n",
    "\n",
    "Let's explore some useful file system operations using the `os` module."
   ]
  },
  {
   "cell_type": "code",
   "execution_count": null,
   "id": "9293d062",
   "metadata": {},
   "outputs": [],
   "source": [
    "import os\n",
    "from datetime import datetime\n",
    "\n",
    "# Get information about files we created\n",
    "files_to_check = ['sample.txt', 'output.txt', 'employees.csv', 'employees.json']\n",
    "\n",
    "print(\"File Information:\")\n",
    "print(\"=\" * 60)\n",
    "\n",
    "for filename in files_to_check:\n",
    "    if os.path.exists(filename):\n",
    "        # Get file stats\n",
    "        stat = os.stat(filename)\n",
    "        size = stat.st_size\n",
    "        modified_time = datetime.fromtimestamp(stat.st_mtime)\n",
    "        \n",
    "        print(f\"📄 {filename}\")\n",
    "        print(f\"   Size: {size} bytes\")\n",
    "        print(f\"   Modified: {modified_time.strftime('%Y-%m-%d %H:%M:%S')}\")\n",
    "        print(f\"   Is file: {os.path.isfile(filename)}\")\n",
    "        print(f\"   Is readable: {os.access(filename, os.R_OK)}\")\n",
    "        print(f\"   Is writable: {os.access(filename, os.W_OK)}\")\n",
    "        print()\n",
    "    else:\n",
    "        print(f\"❌ {filename}: File not found\")\n",
    "\n",
    "# List all files in current directory\n",
    "print(\"Files in current directory:\")\n",
    "current_files = [f for f in os.listdir('.') if os.path.isfile(f)]\n",
    "for i, filename in enumerate(sorted(current_files), 1):\n",
    "    print(f\"{i:2d}. {filename}\")"
   ]
  },
  {
   "cell_type": "markdown",
   "id": "e5dcecfa",
   "metadata": {},
   "source": [
    "## 7. Working with File Paths\n",
    "\n",
    "Using `pathlib` for modern, cross-platform file path handling."
   ]
  },
  {
   "cell_type": "code",
   "execution_count": null,
   "id": "18c1f468",
   "metadata": {},
   "outputs": [],
   "source": [
    "from pathlib import Path\n",
    "import os\n",
    "\n",
    "# Create Path objects\n",
    "current_dir = Path('.')\n",
    "sample_file = Path('output.txt')\n",
    "\n",
    "print(\"Working with Path objects:\")\n",
    "print(f\"Current directory: {current_dir.absolute()}\")\n",
    "print(f\"Sample file: {sample_file.absolute()}\")\n",
    "print(f\"File exists: {sample_file.exists()}\")\n",
    "print(f\"File suffix: {sample_file.suffix}\")\n",
    "print(f\"File stem (name without extension): {sample_file.stem}\")\n",
    "print(f\"Parent directory: {sample_file.parent}\")\n",
    "\n",
    "# Create directory structure\n",
    "data_dir = Path('data')\n",
    "data_dir.mkdir(exist_ok=True)  # Create directory if it doesn't exist\n",
    "\n",
    "# Move a file (by copying and removing original)\n",
    "import shutil\n",
    "\n",
    "backup_file = data_dir / 'sample_backup.txt'\n",
    "shutil.copy2(sample_file, backup_file)\n",
    "print(f\"\\nCreated backup: {backup_file}\")\n",
    "\n",
    "# List files with specific extension\n",
    "print(\"\\nText files in current directory:\")\n",
    "text_files = list(Path('.').glob('*.txt'))\n",
    "for txt_file in text_files:\n",
    "    print(f\"- {txt_file}\")"
   ]
  },
  {
   "cell_type": "markdown",
   "id": "f40f430f",
   "metadata": {},
   "source": [
    "## Exercises\n",
    "\n",
    "Let's practice what we've learned with some hands-on exercises!"
   ]
  },
  {
   "cell_type": "markdown",
   "id": "227aa49d",
   "metadata": {},
   "source": [
    "### 1. Reading from a File\n",
    "- Create a text file called `sample.txt` with several lines of text.\n",
    "- Write a Python program to read and print each line from the file."
   ]
  },
  {
   "cell_type": "code",
   "execution_count": null,
   "id": "9e0e2993",
   "metadata": {},
   "outputs": [],
   "source": [
    "# Your solution here\n"
   ]
  },
  {
   "cell_type": "markdown",
   "id": "6545935f",
   "metadata": {},
   "source": [
    "### 2. Writing to a File\n",
    "- Write a program that prompts a user for their name and saves it to a file `usernames.txt`.\n",
    "- Each new name should be appended to the file, not overwrite existing entries."
   ]
  },
  {
   "cell_type": "code",
   "execution_count": null,
   "id": "0fbaadfd",
   "metadata": {},
   "outputs": [],
   "source": [
    "# Your solution here\n"
   ]
  },
  {
   "cell_type": "markdown",
   "id": "7d290add",
   "metadata": {},
   "source": [
    "### 3. Working with JSON\n",
    "- Create a dictionary with some personal information.\n",
    "- Write it to a `info.json` file using the `json` module.\n",
    "- Read the data back from the `info.json` file and print it."
   ]
  },
  {
   "cell_type": "code",
   "execution_count": null,
   "id": "f411f851",
   "metadata": {},
   "outputs": [],
   "source": [
    "# Your solution here\n"
   ]
  },
  {
   "cell_type": "markdown",
   "id": "0083737b",
   "metadata": {},
   "source": [
    "### 4. Binary File Handling\n",
    "- Write a program to read a text file in binary mode and print the size of the read data.\n",
    "- Compare the binary size with the text file size."
   ]
  },
  {
   "cell_type": "code",
   "execution_count": null,
   "id": "210d3d36",
   "metadata": {},
   "outputs": [],
   "source": [
    "# Your solution here\n"
   ]
  },
  {
   "cell_type": "markdown",
   "id": "0d7a2186",
   "metadata": {},
   "source": [
    "### 5. Exception Handling\n",
    "- Create a Python program that tries to read from a file that doesn't exist and gracefully handles the error, printing a custom message.\n",
    "- Also handle cases where you might not have permission to read the file."
   ]
  },
  {
   "cell_type": "code",
   "execution_count": null,
   "id": "03f693e5",
   "metadata": {},
   "outputs": [],
   "source": [
    "# Your solution here\n"
   ]
  },
  {
   "cell_type": "markdown",
   "id": "64b9106f",
   "metadata": {},
   "source": [
    "### 6. CSV Data Processing\n",
    "- Create a CSV file with student data (name, grade, subject).\n",
    "- Write a program to read the CSV and calculate the average grade."
   ]
  },
  {
   "cell_type": "code",
   "execution_count": null,
   "id": "2d8ac396",
   "metadata": {},
   "outputs": [],
   "source": [
    "# Your solution here\n"
   ]
  },
  {
   "cell_type": "markdown",
   "id": "761f1ff1",
   "metadata": {},
   "source": [
    "## Cleanup\n",
    "\n",
    "Let's clean up all the files we created during this lesson."
   ]
  },
  {
   "cell_type": "code",
   "execution_count": null,
   "id": "1e7a7e25",
   "metadata": {},
   "outputs": [],
   "source": [
    "import os\n",
    "import shutil\n",
    "from pathlib import Path\n",
    "\n",
    "# List of files and directories to clean up\n",
    "files_to_remove = [\n",
    "    'sample.txt', 'output.txt', 'multiple_lines.txt', 'mixed_data.txt',\n",
    "    'employees.csv', 'employees.json', 'unicode_text.txt', 'sample_binary.dat'\n",
    "]\n",
    "\n",
    "dirs_to_remove = ['data']\n",
    "\n",
    "print(\"Cleaning up files and directories:\")\n",
    "\n",
    "# Remove files\n",
    "for filename in files_to_remove:\n",
    "    if os.path.exists(filename):\n",
    "        os.remove(filename)\n",
    "        print(f\"✅ Removed: {filename}\")\n",
    "    else:\n",
    "        print(f\"⚠️  File not found: {filename}\")\n",
    "\n",
    "# Remove directories\n",
    "for dirname in dirs_to_remove:\n",
    "    if os.path.exists(dirname):\n",
    "        shutil.rmtree(dirname)\n",
    "        print(f\"✅ Removed directory: {dirname}\")\n",
    "    else:\n",
    "        print(f\"⚠️  Directory not found: {dirname}\")\n",
    "\n",
    "print(\"\\n🧹 Cleanup complete!\")"
   ]
  },
  {
   "cell_type": "markdown",
   "id": "ace4047f",
   "metadata": {},
   "source": [
    "## Key Takeaways\n",
    "\n",
    "### File Handling Best Practices:\n",
    "- **Always use context managers** (`with` statement) to ensure files are properly closed\n",
    "- **Handle exceptions** appropriately to make your programs robust\n",
    "- **Choose the right file mode** for your needs (read, write, append, binary)\n",
    "- **Use appropriate encoding** (usually UTF-8) for text files\n",
    "- **Check file existence and permissions** before attempting operations\n",
    "\n",
    "### Common File Operations:\n",
    "- **Reading**: `read()`, `readline()`, `readlines()`, or iterate line by line\n",
    "- **Writing**: `write()`, `writelines()` for text; use binary mode for non-text data\n",
    "- **Working with structured data**: Use `json` module for JSON, `csv` module for CSV files\n",
    "- **Path handling**: Use `pathlib` for modern, cross-platform path operations\n",
    "\n",
    "### Error Handling:\n",
    "- `FileNotFoundError`: File doesn't exist\n",
    "- `PermissionError`: Insufficient permissions\n",
    "- `IsADirectoryError`: Path points to directory, not file\n",
    "- `UnicodeDecodeError`: Encoding issues with text files\n",
    "\n",
    "### Memory Considerations:\n",
    "- For large files, read line by line instead of loading entire file into memory\n",
    "- Use appropriate chunk sizes for binary file processing\n",
    "- Consider file size limits in production applications\n",
    "\n",
    "File handling is a fundamental skill in Python programming. Master these concepts, and you'll be able to work with data persistence, configuration files, logs, and much more!"
   ]
  }
 ],
 "metadata": {
  "kernelspec": {
   "display_name": ".venv",
   "language": "python",
   "name": "python3"
  },
  "language_info": {
   "codemirror_mode": {
    "name": "ipython",
    "version": 3
   },
   "file_extension": ".py",
   "mimetype": "text/x-python",
   "name": "python",
   "nbconvert_exporter": "python",
   "pygments_lexer": "ipython3",
   "version": "3.13.5"
  }
 },
 "nbformat": 4,
 "nbformat_minor": 5
}
