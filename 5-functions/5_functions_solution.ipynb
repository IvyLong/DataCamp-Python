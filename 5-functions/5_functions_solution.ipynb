{
 "cells": [
  {
   "cell_type": "markdown",
   "id": "4b882139",
   "metadata": {},
   "source": [
    "# Python Workshop: Functions\n",
    "\n",
    "## Learning Objectives\n",
    "\n",
    "By the end of this section, you will be able to:\n",
    "- Define and call functions in Python\n",
    "- Use parameters and arguments to make functions flexible\n",
    "- Understand default and keyword arguments\n",
    "- Recognize variable scope and namespaces\n",
    "- Return values from functions\n",
    "- Create simple anonymous (lambda) functions\n",
    "- Write docstrings to document your functions\n",
    "- Add and understand function annotations"
   ]
  },
  {
   "cell_type": "markdown",
   "id": "11837caa",
   "metadata": {},
   "source": [
    "## 1. Defining and Calling Functions\n",
    "\n",
    "Functions are blocks of code designed to do one job, and help you organize and reuse code."
   ]
  },
  {
   "cell_type": "markdown",
   "id": "7f6bbb9f",
   "metadata": {},
   "source": [
    "### Defining a Function"
   ]
  },
  {
   "cell_type": "code",
   "execution_count": 1,
   "id": "60ecd126",
   "metadata": {},
   "outputs": [
    {
     "name": "stdout",
     "output_type": "stream",
     "text": [
      "Function name: greet\n",
      "Function type: <class 'function'>\n"
     ]
    }
   ],
   "source": [
    "def greet():\n",
    "    print(\"Hello, world!\")\n",
    "\n",
    "# Let's see what the function looks like\n",
    "print(f\"Function name: {greet.__name__}\")\n",
    "print(f\"Function type: {type(greet)}\")"
   ]
  },
  {
   "cell_type": "markdown",
   "id": "606cf7c7",
   "metadata": {},
   "source": [
    "### Calling a Function"
   ]
  },
  {
   "cell_type": "code",
   "execution_count": 2,
   "id": "6093510d",
   "metadata": {},
   "outputs": [
    {
     "name": "stdout",
     "output_type": "stream",
     "text": [
      "Hello, world!\n",
      "Hello, world!\n",
      "Hello, world!\n"
     ]
    }
   ],
   "source": [
    "greet()  # Output: Hello, world!\n",
    "\n",
    "# You can call it multiple times\n",
    "greet()\n",
    "greet()"
   ]
  },
  {
   "cell_type": "markdown",
   "id": "4a401f76",
   "metadata": {},
   "source": [
    "## 2. Parameters and Arguments\n",
    "\n",
    "Functions can accept input values, known as parameters."
   ]
  },
  {
   "cell_type": "code",
   "execution_count": 3,
   "id": "933f247b",
   "metadata": {},
   "outputs": [
    {
     "name": "stdout",
     "output_type": "stream",
     "text": [
      "Hello, Alice!\n",
      "Hello, Bob!\n",
      "\n",
      "Parameter vs Argument:\n",
      "- 'name' is a parameter in the function definition\n",
      "- 'Alice' and 'Bob' are arguments passed when calling the function\n"
     ]
    }
   ],
   "source": [
    "def greet(name):\n",
    "    print(f\"Hello, {name}!\")\n",
    "\n",
    "greet(\"Alice\")   # Output: Hello, Alice!\n",
    "greet(\"Bob\")     # Output: Hello, Bob!\n",
    "\n",
    "# Let's demonstrate the difference between parameters and arguments\n",
    "print(\"\\nParameter vs Argument:\")\n",
    "print(\"- 'name' is a parameter in the function definition\")\n",
    "print(\"- 'Alice' and 'Bob' are arguments passed when calling the function\")"
   ]
  },
  {
   "cell_type": "markdown",
   "id": "a96c194f",
   "metadata": {},
   "source": [
    "### Multiple Parameters"
   ]
  },
  {
   "cell_type": "code",
   "execution_count": 4,
   "id": "c262b9a2",
   "metadata": {},
   "outputs": [
    {
     "name": "stdout",
     "output_type": "stream",
     "text": [
      "Hi, I'm John Doe and I'm 25 years old.\n",
      "Hi, I'm Jane Smith and I'm 30 years old.\n"
     ]
    }
   ],
   "source": [
    "def introduce(first_name, last_name, age):\n",
    "    print(f\"Hi, I'm {first_name} {last_name} and I'm {age} years old.\")\n",
    "\n",
    "introduce(\"John\", \"Doe\", 25)\n",
    "introduce(\"Jane\", \"Smith\", 30)"
   ]
  },
  {
   "cell_type": "markdown",
   "id": "546ebc6d",
   "metadata": {},
   "source": [
    "## 3. Default Arguments and Keyword Arguments\n",
    "\n",
    "You can provide default values for parameters."
   ]
  },
  {
   "cell_type": "markdown",
   "id": "da4219ab",
   "metadata": {},
   "source": [
    "### Default Arguments"
   ]
  },
  {
   "cell_type": "code",
   "execution_count": 6,
   "id": "fd3c4206",
   "metadata": {},
   "outputs": [
    {
     "name": "stdout",
     "output_type": "stream",
     "text": [
      "Hello, friend!\n",
      "Hello, Charlie!\n",
      "Profile: Alice, 18 years old, from Unknown\n",
      "Profile: Bob, 25 years old, from Unknown\n",
      "Profile: Charlie, 30 years old, from New York\n"
     ]
    }
   ],
   "source": [
    "def greet(name=\"friend\"):\n",
    "    print(f\"Hello, {name}!\")\n",
    "\n",
    "greet()             # Hello, friend!\n",
    "greet(\"Charlie\")    # Hello, Charlie!\n",
    "\n",
    "# More complex example with multiple defaults\n",
    "def create_profile(name, age=18, city=\"Unknown\"):\n",
    "    print(f\"Profile: {name}, {age} years old, from {city}\")\n",
    "\n",
    "create_profile(\"Alice\")\n",
    "create_profile(\"Bob\", 25)\n",
    "create_profile(\"Charlie\", 30, \"New York\")"
   ]
  },
  {
   "cell_type": "markdown",
   "id": "4fbce81f",
   "metadata": {},
   "source": [
    "### Keyword Arguments"
   ]
  },
  {
   "cell_type": "code",
   "execution_count": 7,
   "id": "37cfd42f",
   "metadata": {},
   "outputs": [
    {
     "name": "stdout",
     "output_type": "stream",
     "text": [
      "Dina is 25 years old.\n",
      "Dina is 25 years old.\n",
      "Eve is 28 years old.\n",
      "Frank is 35 years old.\n"
     ]
    }
   ],
   "source": [
    "def introduce(name, age):\n",
    "    print(f\"{name} is {age} years old.\")\n",
    "\n",
    "# Positional arguments\n",
    "introduce(\"Dina\", 25)\n",
    "\n",
    "# Keyword arguments - order doesn't matter\n",
    "introduce(age=25, name=\"Dina\")\n",
    "introduce(name=\"Eve\", age=28)\n",
    "\n",
    "# Mix of positional and keyword (positional must come first)\n",
    "introduce(\"Frank\", age=35)"
   ]
  },
  {
   "cell_type": "markdown",
   "id": "ddd5688a",
   "metadata": {},
   "source": [
    "## 4. Variable Scope and Namespaces\n",
    "\n",
    "Variables created inside a function are **local** to that function."
   ]
  },
  {
   "cell_type": "markdown",
   "id": "49e9efda",
   "metadata": {},
   "source": [
    "### Local Scope"
   ]
  },
  {
   "cell_type": "code",
   "execution_count": 8,
   "id": "e3527dc5",
   "metadata": {},
   "outputs": [
    {
     "name": "stdout",
     "output_type": "stream",
     "text": [
      "Inside function: 5\n",
      "Error: name 'number' is not defined\n",
      "'number' only exists inside the function!\n"
     ]
    }
   ],
   "source": [
    "def show_number():\n",
    "    number = 5  # This is a local variable\n",
    "    print(f\"Inside function: {number}\")\n",
    "\n",
    "show_number()    # Output: 5\n",
    "\n",
    "# Try to access the local variable outside the function\n",
    "try:\n",
    "    print(number)  # This would cause an error!\n",
    "except NameError as e:\n",
    "    print(f\"Error: {e}\")\n",
    "    print(\"'number' only exists inside the function!\")"
   ]
  },
  {
   "cell_type": "markdown",
   "id": "6e60491f",
   "metadata": {},
   "source": [
    "### Global Variables"
   ]
  },
  {
   "cell_type": "code",
   "execution_count": 9,
   "id": "d92e4b35",
   "metadata": {},
   "outputs": [
    {
     "name": "stdout",
     "output_type": "stream",
     "text": [
      "Initial count: 10\n",
      "Count inside function: 10\n",
      "Count incremented to: 11\n",
      "Count after increment: 11\n",
      "Count reset to 0\n",
      "Final count: 0\n"
     ]
    }
   ],
   "source": [
    "count = 10  # Global variable\n",
    "\n",
    "def show_count():\n",
    "    print(f\"Count inside function: {count}\")  # Can read global variables\n",
    "\n",
    "def increment():\n",
    "    global count  # Need 'global' keyword to modify\n",
    "    count += 1\n",
    "    print(f\"Count incremented to: {count}\")\n",
    "\n",
    "def reset_count():\n",
    "    global count\n",
    "    count = 0\n",
    "    print(\"Count reset to 0\")\n",
    "\n",
    "print(f\"Initial count: {count}\")\n",
    "show_count()\n",
    "increment()\n",
    "print(f\"Count after increment: {count}\")\n",
    "reset_count()\n",
    "print(f\"Final count: {count}\")"
   ]
  },
  {
   "cell_type": "markdown",
   "id": "8d4e5a30",
   "metadata": {},
   "source": [
    "### Local vs Global Example"
   ]
  },
  {
   "cell_type": "code",
   "execution_count": null,
   "id": "419a431a",
   "metadata": {},
   "outputs": [],
   "source": [
    "x = \"global\"\n",
    "\n",
    "def scope_demo():\n",
    "    x = \"local\"  # This creates a new local variable\n",
    "    print(f\"Inside function: x = {x}\")\n",
    "\n",
    "def scope_demo_global():\n",
    "    global x\n",
    "    x = \"modified global\"\n",
    "    print(f\"Inside function with global: x = {x}\")\n",
    "\n",
    "print(f\"Before function calls: x = {x}\")\n",
    "scope_demo()\n",
    "print(f\"After scope_demo: x = {x}\")\n",
    "scope_demo_global()\n",
    "print(f\"After scope_demo_global: x = {x}\")"
   ]
  },
  {
   "cell_type": "markdown",
   "id": "5bdbf480",
   "metadata": {},
   "source": [
    "## 5. Return Values\n",
    "\n",
    "Functions can send back (return) results using the `return` statement."
   ]
  },
  {
   "cell_type": "markdown",
   "id": "86a04c94",
   "metadata": {},
   "source": [
    "### Single Return Values"
   ]
  },
  {
   "cell_type": "code",
   "execution_count": null,
   "id": "3646ab8b",
   "metadata": {},
   "outputs": [],
   "source": [
    "def add(a, b):\n",
    "    return a + b\n",
    "\n",
    "def multiply(a, b):\n",
    "    result = a * b\n",
    "    return result\n",
    "\n",
    "# Using return values\n",
    "sum_result = add(3, 4)\n",
    "print(f\"3 + 4 = {sum_result}\")\n",
    "\n",
    "product = multiply(5, 6)\n",
    "print(f\"5 * 6 = {product}\")\n",
    "\n",
    "# You can use return values directly\n",
    "print(f\"Direct use: {add(10, 20)}\")"
   ]
  },
  {
   "cell_type": "markdown",
   "id": "b9dea34a",
   "metadata": {},
   "source": [
    "### Multiple Return Values"
   ]
  },
  {
   "cell_type": "code",
   "execution_count": null,
   "id": "12931439",
   "metadata": {},
   "outputs": [],
   "source": [
    "def min_max(numbers):\n",
    "    return min(numbers), max(numbers)\n",
    "\n",
    "def divide_with_remainder(a, b):\n",
    "    quotient = a // b\n",
    "    remainder = a % b\n",
    "    return quotient, remainder\n",
    "\n",
    "# Multiple return values are returned as tuples\n",
    "numbers = [7, 4, 10, 1, 9]\n",
    "low, high = min_max(numbers)\n",
    "print(f\"Min: {low}, Max: {high}\")\n",
    "\n",
    "# Another example\n",
    "q, r = divide_with_remainder(17, 5)\n",
    "print(f\"17 ÷ 5 = {q} remainder {r}\")\n",
    "\n",
    "# You can also capture as a single tuple\n",
    "result = min_max(numbers)\n",
    "print(f\"Min-max tuple: {result}\")"
   ]
  },
  {
   "cell_type": "markdown",
   "id": "edb3ce9f",
   "metadata": {},
   "source": [
    "### Early Returns and Conditional Returns"
   ]
  },
  {
   "cell_type": "code",
   "execution_count": null,
   "id": "1526f058",
   "metadata": {},
   "outputs": [],
   "source": [
    "def check_positive(number):\n",
    "    if number > 0:\n",
    "        return \"positive\"\n",
    "    elif number < 0:\n",
    "        return \"negative\"\n",
    "    else:\n",
    "        return \"zero\"\n",
    "\n",
    "def factorial(n):\n",
    "    if n < 0:\n",
    "        return None  # Early return for invalid input\n",
    "    if n == 0 or n == 1:\n",
    "        return 1\n",
    "    \n",
    "    result = 1\n",
    "    for i in range(2, n + 1):\n",
    "        result *= i\n",
    "    return result\n",
    "\n",
    "# Test the functions\n",
    "print(f\"5 is {check_positive(5)}\")\n",
    "print(f\"-3 is {check_positive(-3)}\")\n",
    "print(f\"0 is {check_positive(0)}\")\n",
    "\n",
    "print(f\"5! = {factorial(5)}\")\n",
    "print(f\"0! = {factorial(0)}\")\n",
    "print(f\"(-1)! = {factorial(-1)}\")"
   ]
  },
  {
   "cell_type": "markdown",
   "id": "ea259928",
   "metadata": {},
   "source": []
  },
  {
   "cell_type": "code",
   "execution_count": null,
   "id": "a62a585f",
   "metadata": {
    "vscode": {
     "languageId": "markdown"
    }
   },
   "outputs": [],
   "source": []
  },
  {
   "cell_type": "markdown",
   "id": "bfa4ed2c",
   "metadata": {},
   "source": [
    "## 6. Lambda Functions\n",
    "\n",
    "Lambda functions are small anonymous functions, useful for short, simple operations."
   ]
  },
  {
   "cell_type": "markdown",
   "id": "34c842ae",
   "metadata": {},
   "source": [
    "### Basic Lambda Functions"
   ]
  },
  {
   "cell_type": "code",
   "execution_count": null,
   "id": "9c283abe",
   "metadata": {},
   "outputs": [],
   "source": [
    "# Regular function\n",
    "def square(x):\n",
    "    return x * x\n",
    "\n",
    "# Lambda equivalent\n",
    "square_lambda = lambda x: x * x\n",
    "\n",
    "print(f\"Regular function: {square(5)}\")\n",
    "print(f\"Lambda function: {square_lambda(5)}\")\n",
    "\n",
    "# More lambda examples\n",
    "cube = lambda x: x ** 3\n",
    "add_lambda = lambda a, b: a + b\n",
    "is_even = lambda n: n % 2 == 0\n",
    "\n",
    "print(f\"Cube of 3: {cube(3)}\")\n",
    "print(f\"Add 10 + 15: {add_lambda(10, 15)}\")\n",
    "print(f\"Is 4 even? {is_even(4)}\")\n",
    "print(f\"Is 7 even? {is_even(7)}\")"
   ]
  },
  {
   "cell_type": "markdown",
   "id": "20c25793",
   "metadata": {},
   "source": [
    "### Lambda with Built-in Functions"
   ]
  },
  {
   "cell_type": "code",
   "execution_count": null,
   "id": "0dc028e8",
   "metadata": {},
   "outputs": [],
   "source": [
    "# Using lambda with sorted()\n",
    "nums = [2, 4, 1, 3, 8, 5]\n",
    "print(f\"Original: {nums}\")\n",
    "print(f\"Sorted ascending: {sorted(nums)}\")\n",
    "print(f\"Sorted descending: {sorted(nums, key=lambda x: -x)}\")\n",
    "\n",
    "# Using lambda with filter()\n",
    "numbers = [1, 2, 3, 4, 5, 6, 7, 8, 9, 10]\n",
    "evens = list(filter(lambda x: x % 2 == 0, numbers))\n",
    "odds = list(filter(lambda x: x % 2 == 1, numbers))\n",
    "\n",
    "print(f\"Even numbers: {evens}\")\n",
    "print(f\"Odd numbers: {odds}\")\n",
    "\n",
    "# Using lambda with map()\n",
    "squares = list(map(lambda x: x**2, range(1, 6)))\n",
    "print(f\"Squares of 1-5: {squares}\")\n",
    "\n",
    "# Sorting complex data\n",
    "students = [('Alice', 85), ('Bob', 90), ('Charlie', 78), ('Diana', 92)]\n",
    "print(f\"Original: {students}\")\n",
    "print(f\"Sorted by name: {sorted(students, key=lambda student: student[0])}\")\n",
    "print(f\"Sorted by grade: {sorted(students, key=lambda student: student[1])}\")\n",
    "print(f\"Sorted by grade (desc): {sorted(students, key=lambda student: student[1], reverse=True)}\")"
   ]
  },
  {
   "cell_type": "markdown",
   "id": "975fb8fd",
   "metadata": {},
   "source": [
    "## 7. Documentation Strings (Docstrings)\n",
    "\n",
    "Docstrings are special strings at the start of a function to describe what it does."
   ]
  },
  {
   "cell_type": "code",
   "execution_count": null,
   "id": "1a3963c8",
   "metadata": {},
   "outputs": [],
   "source": [
    "def multiply(a, b):\n",
    "    \"\"\"\n",
    "    Multiplies two numbers and returns the result.\n",
    "\n",
    "    Parameters:\n",
    "    a (int or float): First number.\n",
    "    b (int or float): Second number.\n",
    "\n",
    "    Returns:\n",
    "    int or float: Product of a and b.\n",
    "    \"\"\"\n",
    "    return a * b\n",
    "\n",
    "def calculate_area(length, width):\n",
    "    \"\"\"\n",
    "    Calculate the area of a rectangle.\n",
    "    \n",
    "    Args:\n",
    "        length (float): The length of the rectangle\n",
    "        width (float): The width of the rectangle\n",
    "    \n",
    "    Returns:\n",
    "        float: The area of the rectangle\n",
    "        \n",
    "    Example:\n",
    "        >>> calculate_area(5, 3)\n",
    "        15\n",
    "    \"\"\"\n",
    "    return length * width\n",
    "\n",
    "# Access docstrings\n",
    "print(\"Docstring for multiply:\")\n",
    "print(multiply.__doc__)\n",
    "print(\"\\nDocstring for calculate_area:\")\n",
    "print(calculate_area.__doc__)\n",
    "\n",
    "# Use help() to see formatted docstring\n",
    "print(\"\\nUsing help():\")\n",
    "help(multiply)"
   ]
  },
  {
   "cell_type": "markdown",
   "id": "97fa1184",
   "metadata": {},
   "source": [
    "## 8. Function Annotations\n",
    "\n",
    "Annotations let you specify the expected types of a function's parameters and return value. They are for hinting; Python won't enforce them."
   ]
  },
  {
   "cell_type": "code",
   "execution_count": null,
   "id": "19ddda3c",
   "metadata": {},
   "outputs": [],
   "source": [
    "def subtract(a: int, b: int) -> int:\n",
    "    \"\"\"Subtract b from a and return the result.\"\"\"\n",
    "    return a - b\n",
    "\n",
    "def greet_person(name: str, age: int) -> str:\n",
    "    \"\"\"Create a greeting message for a person.\"\"\"\n",
    "    return f\"Hello {name}, you are {age} years old!\"\n",
    "\n",
    "def process_numbers(numbers: list[int]) -> tuple[int, float]:\n",
    "    \"\"\"Process a list of numbers and return sum and average.\"\"\"\n",
    "    total = sum(numbers)\n",
    "    average = total / len(numbers) if numbers else 0\n",
    "    return total, average\n",
    "\n",
    "# Functions work normally regardless of annotations\n",
    "result = subtract(10, 3)\n",
    "print(f\"10 - 3 = {result}\")\n",
    "\n",
    "greeting = greet_person(\"Alice\", 25)\n",
    "print(greeting)\n",
    "\n",
    "nums = [1, 2, 3, 4, 5]\n",
    "total, avg = process_numbers(nums)\n",
    "print(f\"Numbers: {nums}\")\n",
    "print(f\"Sum: {total}, Average: {avg}\")\n",
    "\n",
    "# Access annotations\n",
    "print(f\"\\nAnnotations for subtract: {subtract.__annotations__}\")\n",
    "print(f\"Annotations for greet_person: {greet_person.__annotations__}\")\n",
    "print(f\"Annotations for process_numbers: {process_numbers.__annotations__}\")"
   ]
  },
  {
   "cell_type": "markdown",
   "id": "d36686bf",
   "metadata": {},
   "source": [
    "## 9. *args and **kwargs: Flexible Function Arguments\n",
    "\n",
    "Python functions can accept a variable number of arguments using `*args` (for positional arguments) and `**kwargs` (for keyword arguments).\n",
    "\n",
    "### Using *args\n",
    "\n",
    "`*args` allows you to pass any number of positional arguments to a function. Inside the function, `args` is a tuple.\n",
    "\n"
   ]
  },
  {
   "cell_type": "code",
   "execution_count": 15,
   "id": "7388654a",
   "metadata": {},
   "outputs": [
    {
     "name": "stdout",
     "output_type": "stream",
     "text": [
      "Positional arguments: (1, 2, 3)\n",
      "Keyword arguments: {'a': 10, 'b': 20}\n",
      "All positional: ('apple', 'banana')\n",
      "All keyword: {'count': 5, 'color': 'red'}\n"
     ]
    }
   ],
   "source": [
    "def show_args(*args):\n",
    "    print(\"Positional arguments:\", args)\n",
    "\n",
    "def show_kwargs(**kwargs):\n",
    "    print(\"Keyword arguments:\", kwargs)\n",
    "\n",
    "def show_all(*args, **kwargs):\n",
    "    print(\"All positional:\", args)\n",
    "    print(\"All keyword:\", kwargs)\n",
    "\n",
    "\n",
    "# Example usage:\n",
    "show_args(1, 2, 3)\n",
    "show_kwargs(a=10, b=20)\n",
    "show_all('apple', 'banana', count=5, color='red')\n",
    "\n"
   ]
  },
  {
   "cell_type": "markdown",
   "id": "c9d393b3",
   "metadata": {},
   "source": [
    "## Exercises\n",
    "\n",
    "Let's practice what we've learned with some hands-on exercises!"
   ]
  },
  {
   "cell_type": "markdown",
   "id": "0fb91a96",
   "metadata": {},
   "source": [
    "### 1. Define and Call Functions\n",
    "- Write a function called `say_hello()` that prints \"Hello, learner!\"\n",
    "- Call the function."
   ]
  },
  {
   "cell_type": "code",
   "execution_count": null,
   "id": "3ec07d95",
   "metadata": {},
   "outputs": [],
   "source": [
    "# Exercise 1: Define and Call Functions\n",
    "def say_hello():\n",
    "    print(\"Hello, learner!\")\n",
    "\n",
    "# Call the function\n",
    "say_hello()\n"
   ]
  },
  {
   "cell_type": "markdown",
   "id": "716704d7",
   "metadata": {},
   "source": [
    "### 2. Parameters & Arguments\n",
    "- Write a function called `goodbye(name)` that prints \"Goodbye, [name]\".\n",
    "- Call it with your name and a friend's name."
   ]
  },
  {
   "cell_type": "code",
   "execution_count": null,
   "id": "195e963f",
   "metadata": {},
   "outputs": [],
   "source": [
    "# Exercise 2: Parameters & Arguments\n",
    "def goodbye(name):\n",
    "    print(f\"Goodbye, {name}!\")\n",
    "\n",
    "# Call it with different names\n",
    "goodbye(\"Alice\")  # Replace with your name\n",
    "goodbye(\"Bob\")    # Replace with a friend's name\n"
   ]
  },
  {
   "cell_type": "markdown",
   "id": "29fab024",
   "metadata": {},
   "source": [
    "### 3. Default and Keyword Arguments\n",
    "- Modify `goodbye` so that if no name is given, it says \"Goodbye, friend\".\n",
    "- Call it without an argument and with an argument."
   ]
  },
  {
   "cell_type": "code",
   "execution_count": null,
   "id": "89b21217",
   "metadata": {},
   "outputs": [],
   "source": [
    "# Exercise 3: Default and Keyword Arguments\n",
    "def goodbye(name=\"friend\"):\n",
    "    print(f\"Goodbye, {name}!\")\n",
    "\n",
    "# Call without an argument (uses default)\n",
    "goodbye()\n",
    "\n",
    "# Call with an argument\n",
    "goodbye(\"Charlie\")\n"
   ]
  },
  {
   "cell_type": "markdown",
   "id": "a04dc1da",
   "metadata": {},
   "source": [
    "### 4. Variable Scope\n",
    "- Write a function that sets a variable `x` inside itself and prints it.  \n",
    "- Try printing `x` outside the function (should cause an error)."
   ]
  },
  {
   "cell_type": "code",
   "execution_count": null,
   "id": "a2046fa4",
   "metadata": {},
   "outputs": [],
   "source": [
    "# Exercise 4: Variable Scope\n",
    "def scope_example():\n",
    "    x = 42  # This is a local variable\n",
    "    print(f\"Inside function: x = {x}\")\n",
    "\n",
    "# Call the function\n",
    "scope_example()\n",
    "\n",
    "# Try to print x outside the function (will cause an error)\n",
    "try:\n",
    "    print(x)\n",
    "except NameError as e:\n",
    "    print(f\"Error: {e}\")\n",
    "    print(\"Variable 'x' only exists inside the function!\")\n"
   ]
  },
  {
   "cell_type": "markdown",
   "id": "2fad2d09",
   "metadata": {},
   "source": [
    "### 5. Return Values\n",
    "- Make a function `double(n)` that returns its argument times two.  \n",
    "- Print its return value for `n = 5`."
   ]
  },
  {
   "cell_type": "code",
   "execution_count": null,
   "id": "7469b617",
   "metadata": {},
   "outputs": [],
   "source": [
    "# Exercise 5: Return Values\n",
    "def double(n):\n",
    "    return n * 2\n",
    "\n",
    "# Test with n = 5\n",
    "result = double(5)\n",
    "print(f\"double(5) = {result}\")\n",
    "\n",
    "# You can also call it directly\n",
    "print(f\"double(10) = {double(10)}\")\n"
   ]
  },
  {
   "cell_type": "markdown",
   "id": "876829e9",
   "metadata": {},
   "source": [
    "### 6. Lambda Functions\n",
    "- Write a lambda that returns the cube of a number (x³) and call it with 3."
   ]
  },
  {
   "cell_type": "code",
   "execution_count": null,
   "id": "cc9578b7",
   "metadata": {},
   "outputs": [],
   "source": [
    "# Exercise 6: Lambda Functions\n",
    "# Lambda that returns the cube of a number (x³)\n",
    "cube = lambda x: x ** 3\n",
    "\n",
    "# Call it with 3\n",
    "result = cube(3)\n",
    "print(f\"cube(3) = {result}\")\n",
    "\n",
    "# You can also use it directly\n",
    "print(f\"cube(4) = {cube(4)}\")\n",
    "print(f\"cube(5) = {cube(5)}\")\n"
   ]
  },
  {
   "cell_type": "markdown",
   "id": "9a1c4d2e",
   "metadata": {},
   "source": [
    "### 7. Docstrings\n",
    "- Add a docstring to `double(n)` that explains what it does."
   ]
  },
  {
   "cell_type": "code",
   "execution_count": null,
   "id": "5560d09c",
   "metadata": {},
   "outputs": [],
   "source": [
    "# Exercise 7: Docstrings\n",
    "def double(n):\n",
    "    \"\"\"\n",
    "    Double a given number.\n",
    "    \n",
    "    This function takes a number and returns it multiplied by 2.\n",
    "    \n",
    "    Parameters:\n",
    "    n (int or float): The number to be doubled\n",
    "    \n",
    "    Returns:\n",
    "    int or float: The input number multiplied by 2\n",
    "    \n",
    "    Example:\n",
    "    >>> double(5)\n",
    "    10\n",
    "    \"\"\"\n",
    "    return n * 2\n",
    "\n",
    "# Test the function\n",
    "print(f\"double(7) = {double(7)}\")\n",
    "\n",
    "# Display the docstring\n",
    "print(\"\\nDocstring:\")\n",
    "print(double.__doc__)\n",
    "\n",
    "# Use help() to see formatted docstring\n",
    "print(\"\\nUsing help():\")\n",
    "help(double)\n"
   ]
  },
  {
   "cell_type": "markdown",
   "id": "e958b04e",
   "metadata": {},
   "source": [
    "### 8. Function Annotations\n",
    "- Annotate `double(n)` to show that `n` and its return value are both integers."
   ]
  },
  {
   "cell_type": "code",
   "execution_count": null,
   "id": "a42e3792",
   "metadata": {},
   "outputs": [],
   "source": [
    "# Exercise 8: Function Annotations\n",
    "def double(n: int) -> int:\n",
    "    \"\"\"\n",
    "    Double a given number.\n",
    "    \n",
    "    This function takes an integer and returns it multiplied by 2.\n",
    "    \n",
    "    Parameters:\n",
    "    n (int): The integer to be doubled\n",
    "    \n",
    "    Returns:\n",
    "    int: The input number multiplied by 2\n",
    "    \"\"\"\n",
    "    return n * 2\n",
    "\n",
    "# Test the function\n",
    "print(f\"double(8) = {double(8)}\")\n",
    "\n",
    "# Display the annotations\n",
    "print(f\"Function annotations: {double.__annotations__}\")\n",
    "\n",
    "# The function still works with other types (annotations are just hints)\n",
    "print(f\"double(3.5) = {double(3.5)}\")  # Works with float too\n"
   ]
  },
  {
   "cell_type": "markdown",
   "id": "8b4fa91c",
   "metadata": {},
   "source": [
    "## Bonus Challenge: Putting It All Together\n",
    "\n",
    "Create a function that demonstrates multiple concepts we've learned."
   ]
  },
  {
   "cell_type": "code",
   "execution_count": null,
   "id": "db88be1b",
   "metadata": {},
   "outputs": [],
   "source": [
    "# Challenge: Create a comprehensive function that:\n",
    "# 1. Has parameters with default values\n",
    "# 2. Uses proper type annotations\n",
    "# 3. Has a comprehensive docstring\n",
    "# 4. Returns multiple values\n",
    "# 5. Handles edge cases\n",
    "\n",
    "# Bonus Challenge: Putting It All Together\n",
    "def analyze_numbers(numbers: list[int], operation: str = \"all\", \n",
    "                   include_zero: bool = True) -> tuple[dict, str]:\n",
    "    \"\"\"\n",
    "    Analyze a list of numbers and return statistics based on the operation.\n",
    "    \n",
    "    This comprehensive function demonstrates multiple Python concepts:\n",
    "    - Default parameters with type annotations\n",
    "    - Multiple return values\n",
    "    - Edge case handling\n",
    "    - Comprehensive documentation\n",
    "    \n",
    "    Parameters:\n",
    "    numbers (list[int]): List of integers to analyze\n",
    "    operation (str): Type of analysis (\"all\", \"positive\", \"negative\")\n",
    "    include_zero (bool): Whether to include zero in calculations\n",
    "    \n",
    "    Returns:\n",
    "    tuple[dict, str]: A tuple containing:\n",
    "        - dict: Statistics dictionary with keys 'count', 'sum', 'average', 'min', 'max'\n",
    "        - str: Summary message\n",
    "        \n",
    "    Raises:\n",
    "    ValueError: If numbers list is empty or operation is invalid\n",
    "    \n",
    "    Examples:\n",
    "    >>> analyze_numbers([1, 2, 3, 4, 5])\n",
    "    ({'count': 5, 'sum': 15, 'average': 3.0, 'min': 1, 'max': 5}, 'Analysis complete')\n",
    "    \"\"\"\n",
    "    \n",
    "    # Edge case: empty list\n",
    "    if not numbers:\n",
    "        return {'count': 0, 'sum': 0, 'average': 0, 'min': None, 'max': None}, \"No numbers to analyze\"\n",
    "    \n",
    "    # Edge case: invalid operation\n",
    "    valid_operations = [\"all\", \"positive\", \"negative\"]\n",
    "    if operation not in valid_operations:\n",
    "        return {}, f\"Invalid operation. Use one of: {valid_operations}\"\n",
    "    \n",
    "    # Filter numbers based on operation and include_zero setting\n",
    "    if operation == \"positive\":\n",
    "        filtered_nums = [n for n in numbers if n > 0 or (n == 0 and include_zero)]\n",
    "    elif operation == \"negative\":\n",
    "        filtered_nums = [n for n in numbers if n < 0 or (n == 0 and include_zero)]\n",
    "    else:  # \"all\"\n",
    "        filtered_nums = numbers if include_zero else [n for n in numbers if n != 0]\n",
    "    \n",
    "    # Edge case: no numbers after filtering\n",
    "    if not filtered_nums:\n",
    "        return {'count': 0, 'sum': 0, 'average': 0, 'min': None, 'max': None}, f\"No {operation} numbers found\"\n",
    "    \n",
    "    # Calculate statistics\n",
    "    count = len(filtered_nums)\n",
    "    total = sum(filtered_nums)\n",
    "    average = total / count\n",
    "    minimum = min(filtered_nums)\n",
    "    maximum = max(filtered_nums)\n",
    "    \n",
    "    stats = {\n",
    "        'count': count,\n",
    "        'sum': total,\n",
    "        'average': round(average, 2),\n",
    "        'min': minimum,\n",
    "        'max': maximum\n",
    "    }\n",
    "    \n",
    "    summary = f\"Analyzed {count} {operation} numbers\"\n",
    "    \n",
    "    return stats, summary\n",
    "\n",
    "# Test the comprehensive function\n",
    "test_numbers = [-3, -1, 0, 2, 5, 7, -2, 8]\n",
    "\n",
    "print(\"Test 1: All numbers\")\n",
    "stats, message = analyze_numbers(test_numbers)\n",
    "print(f\"Stats: {stats}\")\n",
    "print(f\"Message: {message}\")\n",
    "\n",
    "print(\"\\nTest 2: Only positive numbers\")\n",
    "stats, message = analyze_numbers(test_numbers, \"positive\", False)\n",
    "print(f\"Stats: {stats}\")\n",
    "print(f\"Message: {message}\")\n",
    "\n",
    "print(\"\\nTest 3: Only negative numbers including zero\")\n",
    "stats, message = analyze_numbers(test_numbers, \"negative\", True)\n",
    "print(f\"Stats: {stats}\")\n",
    "print(f\"Message: {message}\")\n",
    "\n",
    "print(\"\\nTest 4: Edge case - empty list\")\n",
    "stats, message = analyze_numbers([])\n",
    "print(f\"Stats: {stats}\")\n",
    "print(f\"Message: {message}\")\n",
    "\n",
    "print(\"\\nTest 5: Edge case - invalid operation\")\n",
    "stats, message = analyze_numbers(test_numbers, \"invalid\")\n",
    "print(f\"Stats: {stats}\")\n",
    "print(f\"Message: {message}\")\n",
    "\n",
    "# Show function annotations\n",
    "print(f\"\\nFunction annotations: {analyze_numbers.__annotations__}\")\n"
   ]
  },
  {
   "cell_type": "markdown",
   "id": "5a095a11",
   "metadata": {},
   "source": [
    "## Key Takeaways\n",
    "\n",
    "- **Functions** let you organize and reuse code effectively\n",
    "- **Parameters and arguments** make your functions flexible and reusable\n",
    "- **Scope** helps you avoid variable name conflicts and keeps code organized\n",
    "- **Default arguments** make functions more user-friendly\n",
    "- **Return values** allow functions to provide results for further processing\n",
    "- **Lambda functions** are great for short, simple operations\n",
    "- **Docstrings** help document and clarify your code for others (and future you!)\n",
    "- **Type annotations** provide hints about expected data types and improve code readability\n",
    "\n",
    "Functions are fundamental building blocks in Python programming. Master them, and you'll be able to write cleaner, more organized, and more maintainable code!"
   ]
  }
 ],
 "metadata": {
  "kernelspec": {
   "display_name": ".venv",
   "language": "python",
   "name": "python3"
  },
  "language_info": {
   "codemirror_mode": {
    "name": "ipython",
    "version": 3
   },
   "file_extension": ".py",
   "mimetype": "text/x-python",
   "name": "python",
   "nbconvert_exporter": "python",
   "pygments_lexer": "ipython3",
   "version": "3.13.5"
  }
 },
 "nbformat": 4,
 "nbformat_minor": 5
}
