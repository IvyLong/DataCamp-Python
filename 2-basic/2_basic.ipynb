{
 "cells": [
  {
   "cell_type": "markdown",
   "metadata": {},
   "source": [
    "# Python Fundamentals\n",
    "\n",
    "## Learning Objectives\n",
    "- Create and use variables with different data types\n",
    "- Perform operations using Python operators\n",
    "- Accept user input and display output\n",
    "- Write effective comments and documentation\n",
    "- Convert between different data types"
   ]
  },
  {
   "cell_type": "markdown",
   "metadata": {},
   "source": [
    "## Variables and Data Types\n",
    "\n",
    "In Python, variables are containers for storing data values. Unlike some programming languages, Python has no command for declaring a variable—a variable is created when you first assign a value to it."
   ]
  },
  {
   "cell_type": "markdown",
   "metadata": {},
   "source": [
    "### Creating Variables"
   ]
  },
  {
   "cell_type": "code",
   "execution_count": null,
   "metadata": {},
   "outputs": [],
   "source": [
    "# Creating variables of different types\n",
    "name = \"Alice\"        # String\n",
    "age = 25              # Integer\n",
    "height = 1.75         # Float\n",
    "is_student = True     # Boolean"
   ]
  },
  {
   "cell_type": "markdown",
   "metadata": {},
   "source": [
    "Variables in Python don't need explicit type declarations. Python determines the variable type based on the assigned value."
   ]
  },
  {
   "cell_type": "markdown",
   "metadata": {},
   "source": [
    "### Naming Rules\n",
    "\n",
    "Follow these rules when naming variables:\n",
    "- Names can contain letters, numbers, and underscores\n",
    "- Names must start with a letter or underscore\n",
    "- Names are case-sensitive (age and Age are different variables)\n",
    "- Names cannot be Python keywords (like `if`, `for`, `class`, etc.)"
   ]
  },
  {
   "cell_type": "code",
   "execution_count": null,
   "metadata": {},
   "outputs": [],
   "source": [
    "# Valid variable names\n",
    "user_name = \"John\"\n",
    "_count = 1\n",
    "score1 = 95.5\n",
    "\n",
    "# Invalid variable names\n",
    "# 1user = \"John\"    # Cannot start with a number\n",
    "# if = \"keyword\"    # Cannot use a Python keyword"
   ]
  },
  {
   "cell_type": "markdown",
   "metadata": {},
   "source": [
    "### Common Data Types"
   ]
  },
  {
   "cell_type": "markdown",
   "metadata": {},
   "source": [
    "#### 1. Integers\n",
    "Whole numbers without a decimal point."
   ]
  },
  {
   "cell_type": "code",
   "execution_count": null,
   "metadata": {},
   "outputs": [],
   "source": [
    "age = 25\n",
    "count = -10\n",
    "zero = 0\n",
    "\n",
    "# Large integers are handled automatically\n",
    "population = 7800000000"
   ]
  },
  {
   "cell_type": "markdown",
   "metadata": {},
   "source": [
    "#### 2. Floating-Point Numbers (Floats)\n",
    "Numbers with a decimal point."
   ]
  },
  {
   "cell_type": "code",
   "execution_count": null,
   "metadata": {},
   "outputs": [],
   "source": [
    "height = 1.75\n",
    "temperature = -2.5\n",
    "pi_approximate = 3.14159\n",
    "\n",
    "# Scientific notation\n",
    "electron_mass = 9.1e-31  # 9.1 × 10^-31"
   ]
  },
  {
   "cell_type": "markdown",
   "metadata": {},
   "source": [
    "#### 3. Strings\n",
    "Sequences of characters, enclosed in single or double quotes."
   ]
  },
  {
   "cell_type": "code",
   "execution_count": null,
   "metadata": {},
   "outputs": [],
   "source": [
    "name = \"Alice\"\n",
    "message = 'Hello, Python!'\n",
    "\n",
    "# Multi-line strings use triple quotes\n",
    "address = \"\"\"123 Main Street\n",
    "Anytown, USA\n",
    "12345\"\"\""
   ]
  },
  {
   "cell_type": "markdown",
   "metadata": {},
   "source": [
    "#### 4. Booleans\n",
    "Represent truth values: `True` or `False`."
   ]
  },
  {
   "cell_type": "code",
   "execution_count": null,
   "metadata": {},
   "outputs": [],
   "source": [
    "is_active = True\n",
    "is_completed = False\n",
    "\n",
    "# Boolean expressions\n",
    "is_adult = age >= 18\n",
    "is_valid = name != \"\""
   ]
  },
  {
   "cell_type": "markdown",
   "metadata": {},
   "source": [
    "#### 5. None Type\n",
    "Represents the absence of a value."
   ]
  },
  {
   "cell_type": "code",
   "execution_count": null,
   "metadata": {},
   "outputs": [],
   "source": [
    "result = None  # Used when you need a placeholder"
   ]
  },
  {
   "cell_type": "markdown",
   "metadata": {},
   "source": [
    "### Checking Data Types\n",
    "\n",
    "Use the `type()` function to check the data type of a variable:"
   ]
  },
  {
   "cell_type": "code",
   "execution_count": null,
   "metadata": {},
   "outputs": [],
   "source": [
    "name = \"Alice\"\n",
    "age = 25\n",
    "height = 1.75\n",
    "is_student = True\n",
    "\n",
    "print(type(name))      # <class 'str'>\n",
    "print(type(age))       # <class 'int'>\n",
    "print(type(height))    # <class 'float'>\n",
    "print(type(is_student))  # <class 'bool'>"
   ]
  },
  {
   "cell_type": "markdown",
   "metadata": {},
   "source": [
    "## Basic Operators and Expressions"
   ]
  },
  {
   "cell_type": "markdown",
   "metadata": {},
   "source": [
    "### Arithmetic Operators"
   ]
  },
  {
   "cell_type": "code",
   "execution_count": null,
   "metadata": {},
   "outputs": [],
   "source": [
    "a = 10\n",
    "b = 3\n",
    "\n",
    "sum_result = a + b         # Addition: 13\n",
    "difference = a - b         # Subtraction: 7\n",
    "product = a * b            # Multiplication: 30\n",
    "quotient = a / b           # Division: 3.3333... (returns float)\n",
    "integer_division = a // b  # Floor division: 3 (returns integer)\n",
    "remainder = a % b          # Modulus (remainder): 1\n",
    "power = a ** b             # Exponentiation: 1000 (10^3)\n",
    "\n",
    "# Multiple operations\n",
    "result = 5 + 3 * 2         # 11 (multiplication has precedence)\n",
    "result = (5 + 3) * 2       # 16 (parentheses change precedence)"
   ]
  },
  {
   "cell_type": "markdown",
   "metadata": {},
   "source": [
    "### Assignment Operators"
   ]
  },
  {
   "cell_type": "code",
   "execution_count": 3,
   "metadata": {},
   "outputs": [
    {
     "name": "stdout",
     "output_type": "stream",
     "text": [
      "3\n"
     ]
    }
   ],
   "source": [
    "x = 10                # Basic assignment\n",
    "\n",
    "# Combined assignment operators\n",
    "# x += 5                # x = x + 5 (x is now 15)\n",
    "# print(x)\n",
    "# x -= 3                # x = x - 3 (x is now 12)\n",
    "# x *= 2                # x = x * 2 (x is now 24)\n",
    "# x /= 4                # x = x / 4 (x is now 6.0)\n",
    "# x %= 4                # x = x % 4 (x is now 2.0)\n",
    "# x **= 3               # x = x ** 3 (x is now 8.0)\n",
    "x //= 3               # x = x // 3 (x is now 2.0)\n",
    "print(x)"
   ]
  },
  {
   "cell_type": "markdown",
   "metadata": {},
   "source": [
    "### Comparison Operators"
   ]
  },
  {
   "cell_type": "code",
   "execution_count": null,
   "metadata": {},
   "outputs": [],
   "source": [
    "a = 10\n",
    "b = 5\n",
    "\n",
    "print(a == b)  # Equal to: False\n",
    "print(a != b)  # Not equal to: True\n",
    "print(a > b)   # Greater than: True\n",
    "print(a < b)   # Less than: False\n",
    "print(a >= b)  # Greater than or equal to: True\n",
    "print(a <= b)  # Less than or equal to: False"
   ]
  },
  {
   "cell_type": "markdown",
   "metadata": {},
   "source": [
    "### Logical Operators"
   ]
  },
  {
   "cell_type": "code",
   "execution_count": null,
   "metadata": {},
   "outputs": [],
   "source": [
    "x = True\n",
    "y = False\n",
    "\n",
    "print(x and y)  # Logical AND: False (both must be True)\n",
    "print(x or y)   # Logical OR: True (at least one must be True)\n",
    "print(not x)    # Logical NOT: False (inverts the value)\n",
    "\n",
    "# Complex conditions\n",
    "age = 25\n",
    "income = 50000\n",
    "is_eligible = (age > 18) and (income > 30000)  # True"
   ]
  },
  {
   "cell_type": "markdown",
   "metadata": {},
   "source": [
    "### Identity Operators"
   ]
  },
  {
   "cell_type": "code",
   "execution_count": 5,
   "metadata": {},
   "outputs": [
    {
     "name": "stdout",
     "output_type": "stream",
     "text": [
      "True\n",
      "False\n",
      "True\n",
      "True\n"
     ]
    }
   ],
   "source": [
    "a = [1, 2, 3]\n",
    "\n",
    "b = [1, 2, 3]\n",
    "c = a\n",
    "\n",
    "print(a is c)     # True (a and c refer to the same object)\n",
    "print(a is b)     # False (a and b are equal but different objects)\n",
    "print(a is not b) # True\n",
    "print(a==b)"
   ]
  },
  {
   "cell_type": "markdown",
   "metadata": {},
   "source": [
    "### Membership Operators"
   ]
  },
  {
   "cell_type": "code",
   "execution_count": null,
   "metadata": {},
   "outputs": [],
   "source": [
    "fruits = [\"apple\", \"banana\", \"cherry\"]\n",
    "\n",
    "print(\"apple\" in fruits)       # True\n",
    "print(\"orange\" in fruits)      # False\n",
    "print(\"orange\" not in fruits)  # True"
   ]
  },
  {
   "cell_type": "markdown",
   "metadata": {},
   "source": [
    "## Input and Output Operations"
   ]
  },
  {
   "cell_type": "markdown",
   "metadata": {},
   "source": [
    "### Output with `print()`"
   ]
  },
  {
   "cell_type": "code",
   "execution_count": 7,
   "metadata": {},
   "outputs": [
    {
     "name": "stdout",
     "output_type": "stream",
     "text": [
      "Hello, Python!\n",
      "My name is Alice and I am 25 years old.\n"
     ]
    }
   ],
   "source": [
    "# Basic print\n",
    "print(\"Hello, Python!\")\n",
    "\n",
    "# Printing multiple items\n",
    "name = \"Alice\"\n",
    "age = 25\n",
    "# print(\"Name:\", name, \"Age:\", age)\n",
    "\n",
    "# # Printing with end parameter (default is newline)\n",
    "# print(\"Hello\", end=\" \")\n",
    "# print(\"World\")  # Prints \"Hello World\" on one line\n",
    "\n",
    "# Formatting with f-strings (Python 3.6+)\n",
    "print(f\"My name is {name} and I am {age} years old.\")"
   ]
  },
  {
   "cell_type": "code",
   "execution_count": null,
   "metadata": {},
   "outputs": [],
   "source": [
    "# Formatting with format() method\n",
    "print(\"My name is {} and I am {} years old.\".format(name, age))\n",
    "\n",
    "# Formatting with positional arguments\n",
    "print(\"My name is {0} and I am {1} years old.\".format(name, age))\n",
    "\n",
    "# Formatting with named arguments\n",
    "print(\"My name is {n} and I am {a} years old.\".format(n=name, a=age))\n",
    "\n",
    "# Older style string formatting (still works)\n",
    "print(\"My name is %s and I am %d years old.\" % (name, age))"
   ]
  },
  {
   "cell_type": "markdown",
   "metadata": {},
   "source": [
    "### Input with `input()`\n",
    "\n",
    "The `input()` function reads a line from the user and returns it as a string."
   ]
  },
  {
   "cell_type": "code",
   "execution_count": null,
   "metadata": {},
   "outputs": [],
   "source": [
    "# Basic input\n",
    "# name = input(\"Enter your name: \")\n",
    "# print(f\"Hello, {name}!\")\n",
    "\n",
    "# Getting numeric input (remember to convert the string)\n",
    "age: int = int(input(\"Enter your age: \"))\n",
    "\n",
    "print(f\"In five years, you'll be {age + 5} years old.\")\n",
    "\n",
    "# Combined in one step\n",
    "# height = float(input(\"Enter your height in meters: \"))\n",
    "# print(f\"Your height is {height} meters.\")"
   ]
  },
  {
   "cell_type": "markdown",
   "metadata": {},
   "source": [
    "## Comments and Documentation"
   ]
  },
  {
   "cell_type": "markdown",
   "metadata": {},
   "source": [
    "### Single-line Comments"
   ]
  },
  {
   "cell_type": "code",
   "execution_count": null,
   "metadata": {},
   "outputs": [],
   "source": [
    "# This is a single-line comment\n",
    "x = 10  # This comment is after code"
   ]
  },
  {
   "cell_type": "markdown",
   "metadata": {},
   "source": [
    "### Multi-line Comments"
   ]
  },
  {
   "cell_type": "code",
   "execution_count": null,
   "metadata": {},
   "outputs": [],
   "source": [
    "# This is a multi-line comment using multiple single-line comments\n",
    "# Python doesn't have a specific multi-line comment syntax\n",
    "# So we just use multiple hash signs\n",
    "\n",
    "\"\"\"\n",
    "This is also used for multi-line comments\n",
    "Although technically it's a string that isn't assigned to a variable\n",
    "This style is often used for multi-line comments\n",
    "\"\"\""
   ]
  },
  {
   "cell_type": "markdown",
   "metadata": {},
   "source": [
    "### Docstrings\n",
    "\n",
    "Docstrings are strings used to document functions, classes, and modules."
   ]
  },
  {
   "cell_type": "code",
   "execution_count": null,
   "metadata": {},
   "outputs": [],
   "source": [
    "def calculate_area(length, width):\n",
    "    \"\"\"\n",
    "    Calculate the area of a rectangle.\n",
    "    \n",
    "    Parameters:\n",
    "        length (float): The length of the rectangle\n",
    "        width (float): The width of the rectangle\n",
    "        \n",
    "    Output:\n",
    "        float: The area of the rectangle\n",
    "    \"\"\"\n",
    "    return length * width\n",
    "\n",
    "# You can access docstrings using the __doc__ attribute\n",
    "print(calculate_area.__doc__)"
   ]
  },
  {
   "cell_type": "markdown",
   "metadata": {},
   "source": [
    "## Type Conversion\n",
    "\n",
    "Python allows you to convert between different data types using built-in functions."
   ]
  },
  {
   "cell_type": "markdown",
   "metadata": {},
   "source": [
    "### Common Type Conversion Functions"
   ]
  },
  {
   "cell_type": "code",
   "execution_count": null,
   "metadata": {},
   "outputs": [],
   "source": [
    "# String to integer\n",
    "age_str = \"25\"\n",
    "age = int(age_str)\n",
    "print(type(age))  # <class 'int'>\n",
    "\n",
    "# String to float\n",
    "height_str = \"1.75\"\n",
    "height = float(height_str)\n",
    "print(type(height))  # <class 'float'>\n",
    "\n",
    "# Integer/float to string\n",
    "score = 95\n",
    "score_str = str(score)\n",
    "print(type(score_str))  # <class 'str'>\n",
    "\n",
    "# Integer to float\n",
    "count = 10\n",
    "count_float = float(count)\n",
    "print(count_float)  # 10.0\n",
    "\n",
    "# Float to integer (truncates decimal part)\n",
    "price = 29.95\n",
    "price_int = int(price)\n",
    "print(price_int)  # 29 (decimal part is truncated, not rounded)\n",
    "\n",
    "# To boolean\n",
    "# Zero values (0, 0.0, \"\"), empty containers, and None convert to False\n",
    "# Non-zero values convert to True\n",
    "\n",
    "print(bool(0))      # False\n",
    "print(bool(1))      # True\n",
    "print(bool(-3.14))  # True\n",
    "print(bool(\"\"))     # False\n",
    "print(bool(\"text\")) # True"
   ]
  },
  {
   "cell_type": "markdown",
   "metadata": {},
   "source": [
    "### Type Conversion Pitfalls"
   ]
  },
  {
   "cell_type": "code",
   "execution_count": null,
   "metadata": {},
   "outputs": [],
   "source": [
    "# Invalid conversions raise errors\n",
    "# int(\"hello\")    # ValueError: invalid literal for int()\n",
    "# float(\"text\")   # ValueError: could not convert string to float\n",
    "\n",
    "# Be careful with float precision\n",
    "result = 0.1 + 0.2\n",
    "print(result)        # 0.30000000000000004 (not exactly 0.3 due to float representation)\n",
    "print(round(result, 2))  # 0.3 (rounded to 2 decimal places)\n",
    "\n",
    "# Converting to integer truncates (doesn't round)\n",
    "print(int(9.9))      # 9 (not 10)"
   ]
  },
  {
   "cell_type": "markdown",
   "metadata": {},
   "source": [
    "## Practice Exercises\n",
    "\n",
    "### Exercise 1: Variable Creation and Data Types\n",
    "Create a script that:\n",
    "1. Defines variables for your name, age, height (in meters), and whether you are a student\n",
    "2. Prints each variable and its type\n",
    "3. Creates a multi-line string with your favorite quote"
   ]
  },
  {
   "cell_type": "code",
   "execution_count": null,
   "metadata": {},
   "outputs": [],
   "source": [
    "# Exercise 1 template\n",
    "name = \"Your Name\"\n",
    "age = 0  # Replace with your age\n",
    "height = 0.0  # Replace with your height\n",
    "is_student = False  # Change to True if you are a student\n",
    "\n",
    "# Print variables and their types\n",
    "print(\"Name:\", name, \"Type:\", type(name))\n",
    "# Continue for other variables...\n",
    "\n",
    "# Create a multi-line string with your favorite quote\n",
    "favorite_quote = \"\"\"\n",
    "Your favorite\n",
    "quote goes\n",
    "here\n",
    "\"\"\"\n",
    "print(favorite_quote)"
   ]
  },
  {
   "cell_type": "markdown",
   "metadata": {},
   "source": [
    "### Exercise 2: Operators and Expressions\n",
    "Create a script that:\n",
    "1. Asks the user for two numbers\n",
    "2. Performs all arithmetic operations on these numbers\n",
    "3. Compares the numbers and prints whether the first is greater, less than, or equal to the second\n",
    "4. Uses logical operators to check if both numbers are positive"
   ]
  },
  {
   "cell_type": "code",
   "execution_count": null,
   "metadata": {},
   "outputs": [],
   "source": [
    "# Exercise 2 template\n",
    "num1 = float(input(\"Enter the first number: \"))\n",
    "num2 = float(input(\"Enter the second number: \"))\n",
    "\n",
    "# Perform arithmetic operations\n",
    "# Your code here...\n",
    "\n",
    "# Compare the numbers\n",
    "# Your code here...\n",
    "\n",
    "# Check if both numbers are positive\n",
    "# Your code here..."
   ]
  },
  {
   "cell_type": "markdown",
   "metadata": {},
   "source": [
    "### Exercise 3: Type Conversion\n",
    "Create a script that:\n",
    "1. Asks the user for their birth year as a string\n",
    "2. Converts it to an integer\n",
    "3. Calculates and prints their age\n",
    "4. Converts their age back to a string and concatenates it with other text\n",
    "5. Creates a boolean that checks if they are an adult (age >= 18)"
   ]
  },
  {
   "cell_type": "code",
   "execution_count": null,
   "metadata": {},
   "outputs": [],
   "source": [
    "birth_year_str = input(\"Enter your birth year: \")\n",
    "\n",
    "# Convert to integer\n",
    "# Your code here...\n",
    "\n",
    "# Calculate age (use current year)\n",
    "current_year = 2024  # Update as needed\n",
    "# Your code here...\n",
    "\n",
    "# Convert age to string and concatenate\n",
    "# Your code here...\n",
    "\n",
    "# Check if they are an adult\n",
    "# Your code here..."
   ]
  },
  {
   "cell_type": "markdown",
   "metadata": {},
   "source": [
    "## Key Takeaways\n",
    "- Variables in Python are dynamically typed and don't need explicit declarations\n",
    "- Python has several basic data types: integers, floats, strings, and booleans\n",
    "- Operators allow you to perform calculations, comparisons, and logical operations\n",
    "- The `input()` function gets user input as a string, while `print()` displays output\n",
    "- Comments and docstrings help document your code for yourself and others\n",
    "- Type conversion functions let you convert between different data types\n",
    "- Always validate user input before converting it to avoid errors"
   ]
  },
  {
   "cell_type": "markdown",
   "metadata": {},
   "source": [
    "## Next Steps\n",
    "Now that you understand Python's fundamental building blocks, you're ready to explore control flow with conditional statements and loops!"
   ]
  }
 ],
 "metadata": {
  "kernelspec": {
   "display_name": ".venv",
   "language": "python",
   "name": "python3"
  },
  "language_info": {
   "codemirror_mode": {
    "name": "ipython",
    "version": 3
   },
   "file_extension": ".py",
   "mimetype": "text/x-python",
   "name": "python",
   "nbconvert_exporter": "python",
   "pygments_lexer": "ipython3",
   "version": "3.13.5"
  }
 },
 "nbformat": 4,
 "nbformat_minor": 2
}
