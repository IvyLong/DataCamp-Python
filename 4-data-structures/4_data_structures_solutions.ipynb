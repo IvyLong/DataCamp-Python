{
 "cells": [
  {
   "cell_type": "markdown",
   "id": "51e489c1",
   "metadata": {},
   "source": [
    "# Data Structures in Python - Exercise Solutions\n",
    "\n",
    "This notebook contains solutions to all exercises from the Data Structures lesson."
   ]
  },
  {
   "cell_type": "markdown",
   "id": "5e5b2ccf",
   "metadata": {},
   "source": [
    "## Exercise 1: Lists\n",
    "\n",
    "**Tasks:**\n",
    "- Create a list of five cities.\n",
    "- Replace the third city with a new one.\n",
    "- Remove the last city and print the resulting list."
   ]
  },
  {
   "cell_type": "code",
   "execution_count": null,
   "id": "74356a78",
   "metadata": {},
   "outputs": [],
   "source": [
    "# Create a list of five cities\n",
    "cities = [\"New York\", \"London\", \"Tokyo\", \"Paris\", \"Sydney\"]\n",
    "print(\"Original cities:\", cities)\n",
    "\n",
    "# Replace the third city (index 2) with a new one\n",
    "cities[2] = \"Berlin\"\n",
    "print(\"After replacing third city:\", cities)\n",
    "\n",
    "# Remove the last city\n",
    "removed_city = cities.pop()\n",
    "print(f\"Removed city: {removed_city}\")\n",
    "print(\"Final list:\", cities)"
   ]
  },
  {
   "cell_type": "markdown",
   "id": "2243e9b5",
   "metadata": {},
   "source": [
    "## Exercise 2: Tuples\n",
    "\n",
    "**Tasks:**\n",
    "- Create a tuple representing a date (year, month, day).\n",
    "- Use tuple unpacking to assign each part to a variable and print them."
   ]
  },
  {
   "cell_type": "code",
   "execution_count": null,
   "id": "f374eabc",
   "metadata": {},
   "outputs": [],
   "source": [
    "# Create a tuple representing a date\n",
    "date = (2025, 7, 10)\n",
    "print(\"Date tuple:\", date)\n",
    "\n",
    "# Use tuple unpacking to assign each part to variables\n",
    "year, month, day = date\n",
    "\n",
    "# Print each part\n",
    "print(f\"Year: {year}\")\n",
    "print(f\"Month: {month}\")\n",
    "print(f\"Day: {day}\")\n",
    "print(f\"Formatted date: {month}/{day}/{year}\")"
   ]
  },
  {
   "cell_type": "markdown",
   "id": "1dd133ed",
   "metadata": {},
   "source": [
    "## Exercise 3: Dictionaries\n",
    "\n",
    "**Tasks:**\n",
    "- Make a dictionary mapping three people's names to their favorite colors.\n",
    "- Add a new person, change one color, and remove one entry.\n",
    "- Loop through the dictionary and print each person's favorite color."
   ]
  },
  {
   "cell_type": "code",
   "execution_count": null,
   "id": "60b1961b",
   "metadata": {},
   "outputs": [],
   "source": [
    "# Create dictionary mapping names to favorite colors\n",
    "favorite_colors = {\n",
    "    \"Alice\": \"blue\",\n",
    "    \"Bob\": \"red\",\n",
    "    \"Charlie\": \"green\"\n",
    "}\n",
    "print(\"Original dictionary:\", favorite_colors)\n",
    "\n",
    "# Add a new person\n",
    "favorite_colors[\"Diana\"] = \"purple\"\n",
    "print(\"After adding Diana:\", favorite_colors)\n",
    "\n",
    "# Change one color\n",
    "favorite_colors[\"Bob\"] = \"orange\"\n",
    "print(\"After changing Bob's color:\", favorite_colors)\n",
    "\n",
    "# Remove one entry\n",
    "removed_color = favorite_colors.pop(\"Charlie\")\n",
    "print(f\"Removed Charlie with favorite color: {removed_color}\")\n",
    "print(\"After removal:\", favorite_colors)\n",
    "\n",
    "# Loop through and print each person's favorite color\n",
    "print(\"\\nEveryone's favorite colors:\")\n",
    "for name, color in favorite_colors.items():\n",
    "    print(f\"{name}'s favorite color is {color}\")"
   ]
  },
  {
   "cell_type": "markdown",
   "id": "502f8a11",
   "metadata": {},
   "source": [
    "## Exercise 4: Sets\n",
    "\n",
    "**Tasks:**\n",
    "- Given the list `[1, 2, 2, 3, 4, 4, 5]`, create a set from it.\n",
    "- Add the number 6 to the set.\n",
    "- Check if 3 is in the set."
   ]
  },
  {
   "cell_type": "code",
   "execution_count": null,
   "id": "fa49379c",
   "metadata": {},
   "outputs": [],
   "source": [
    "# Given list with duplicates\n",
    "numbers_list = [1, 2, 2, 3, 4, 4, 5]\n",
    "print(\"Original list:\", numbers_list)\n",
    "\n",
    "# Create a set from the list (removes duplicates)\n",
    "numbers_set = set(numbers_list)\n",
    "print(\"Set created from list:\", numbers_set)\n",
    "\n",
    "# Add the number 6 to the set\n",
    "numbers_set.add(6)\n",
    "print(\"After adding 6:\", numbers_set)\n",
    "\n",
    "# Check if 3 is in the set\n",
    "is_three_in_set = 3 in numbers_set\n",
    "print(f\"Is 3 in the set? {is_three_in_set}\")\n",
    "\n",
    "# Additional checks\n",
    "print(f\"Is 7 in the set? {7 in numbers_set}\")\n",
    "print(f\"Set length: {len(numbers_set)}\")"
   ]
  },
  {
   "cell_type": "markdown",
   "id": "a96d4fc3",
   "metadata": {},
   "source": [
    "## Exercise 5: List Comprehensions\n",
    "\n",
    "**Task:**\n",
    "- Write a list comprehension to create a list of all squares from 1 to 10 that are even."
   ]
  },
  {
   "cell_type": "code",
   "execution_count": null,
   "id": "60d6d903",
   "metadata": {},
   "outputs": [],
   "source": [
    "# List comprehension to create squares from 1 to 10 that are even\n",
    "even_squares = [x**2 for x in range(1, 11) if (x**2) % 2 == 0]\n",
    "print(\"Even squares from 1 to 10:\", even_squares)\n",
    "\n",
    "# Alternative approach: squares of even numbers\n",
    "squares_of_evens = [x**2 for x in range(1, 11) if x % 2 == 0]\n",
    "print(\"Squares of even numbers from 1 to 10:\", squares_of_evens)\n",
    "\n",
    "# Let's verify by showing all squares first\n",
    "all_squares = [x**2 for x in range(1, 11)]\n",
    "print(\"All squares from 1 to 10:\", all_squares)\n",
    "print(\"Even ones from above:\", [sq for sq in all_squares if sq % 2 == 0])"
   ]
  },
  {
   "cell_type": "markdown",
   "id": "8059a0e0",
   "metadata": {},
   "source": [
    "## Exercise 6: Nested Structures\n",
    "\n",
    "**Tasks:**\n",
    "- Create a list of dictionaries, each representing a book with its 'title' and 'author'.\n",
    "- Print the title of the second book."
   ]
  },
  {
   "cell_type": "code",
   "execution_count": null,
   "id": "ef860134",
   "metadata": {},
   "outputs": [],
   "source": [
    "# Create a list of dictionaries representing books\n",
    "books = [\n",
    "    {\"title\": \"To Kill a Mockingbird\", \"author\": \"Harper Lee\"},\n",
    "    {\"title\": \"1984\", \"author\": \"George Orwell\"},\n",
    "    {\"title\": \"Pride and Prejudice\", \"author\": \"Jane Austen\"},\n",
    "    {\"title\": \"The Great Gatsby\", \"author\": \"F. Scott Fitzgerald\"}\n",
    "]\n",
    "\n",
    "print(\"All books:\")\n",
    "for i, book in enumerate(books, 1):\n",
    "    print(f\"{i}. '{book['title']}' by {book['author']}\")\n",
    "\n",
    "# Print the title of the second book (index 1)\n",
    "second_book_title = books[1][\"title\"]\n",
    "print(f\"\\nTitle of the second book: {second_book_title}\")\n",
    "\n",
    "# Additional operations with nested structures\n",
    "print(f\"Author of the second book: {books[1]['author']}\")\n",
    "print(f\"Total number of books: {len(books)}\")"
   ]
  },
  {
   "cell_type": "markdown",
   "id": "3eeb4d10",
   "metadata": {},
   "source": [
    "## Bonus: Additional Practice Examples\n",
    "\n",
    "Here are some additional examples that combine multiple data structures:"
   ]
  },
  {
   "cell_type": "markdown",
   "id": "da9b2cc4",
   "metadata": {},
   "source": [
    "### Bonus 1: Student Grades System"
   ]
  },
  {
   "cell_type": "code",
   "execution_count": null,
   "id": "3909d160",
   "metadata": {},
   "outputs": [],
   "source": [
    "# Create a comprehensive student grades system\n",
    "students = {\n",
    "    \"Alice\": {\n",
    "        \"grades\": [85, 90, 92, 88],\n",
    "        \"subjects\": [\"Math\", \"Science\", \"English\", \"History\"]\n",
    "    },\n",
    "    \"Bob\": {\n",
    "        \"grades\": [78, 82, 85, 80],\n",
    "        \"subjects\": [\"Math\", \"Science\", \"English\", \"History\"]\n",
    "    },\n",
    "    \"Charlie\": {\n",
    "        \"grades\": [92, 95, 89, 94],\n",
    "        \"subjects\": [\"Math\", \"Science\", \"English\", \"History\"]\n",
    "    }\n",
    "}\n",
    "\n",
    "# Calculate average grades using list comprehension\n",
    "for student, data in students.items():\n",
    "    average = sum(data[\"grades\"]) / len(data[\"grades\"])\n",
    "    print(f\"{student}'s average grade: {average:.2f}\")\n",
    "\n",
    "# Find all students with average > 85\n",
    "high_performers = [student for student, data in students.items() \n",
    "                  if sum(data[\"grades\"]) / len(data[\"grades\"]) > 85]\n",
    "print(f\"\\nHigh performers (average > 85): {high_performers}\")"
   ]
  },
  {
   "cell_type": "markdown",
   "id": "5b04dbbe",
   "metadata": {},
   "source": [
    "### Bonus 2: Data Processing Pipeline"
   ]
  },
  {
   "cell_type": "code",
   "execution_count": null,
   "id": "af3712ec",
   "metadata": {},
   "outputs": [],
   "source": [
    "# Simulate processing a dataset\n",
    "raw_data = [\n",
    "    (\"apple\", 5, \"fruit\"),\n",
    "    (\"carrot\", 3, \"vegetable\"),\n",
    "    (\"banana\", 2, \"fruit\"),\n",
    "    (\"broccoli\", 4, \"vegetable\"),\n",
    "    (\"orange\", 6, \"fruit\")\n",
    "]\n",
    "\n",
    "# Convert to list of dictionaries\n",
    "products = [{\"name\": name, \"quantity\": qty, \"category\": cat} \n",
    "           for name, qty, cat in raw_data]\n",
    "\n",
    "print(\"Products:\")\n",
    "for product in products:\n",
    "    print(f\"  {product}\")\n",
    "\n",
    "# Group by category using dictionary comprehension\n",
    "categories = set(product[\"category\"] for product in products)\n",
    "grouped = {cat: [p for p in products if p[\"category\"] == cat] \n",
    "          for cat in categories}\n",
    "\n",
    "print(\"\\nGrouped by category:\")\n",
    "for category, items in grouped.items():\n",
    "    print(f\"{category.title()}s: {[item['name'] for item in items]}\")\n",
    "\n",
    "# Calculate total quantity by category\n",
    "totals = {cat: sum(item[\"quantity\"] for item in items) \n",
    "         for cat, items in grouped.items()}\n",
    "print(f\"\\nTotal quantities: {totals}\")"
   ]
  },
  {
   "cell_type": "markdown",
   "id": "d4e1d71e",
   "metadata": {},
   "source": [
    "## Summary\n",
    "\n",
    "These solutions demonstrate:\n",
    "\n",
    "1. **Lists**: Basic operations like indexing, modification, and removal\n",
    "2. **Tuples**: Immutable data and tuple unpacking\n",
    "3. **Dictionaries**: Key-value operations and iteration\n",
    "4. **Sets**: Unique collections and membership testing\n",
    "5. **List Comprehensions**: Concise list creation with conditions\n",
    "6. **Nested Structures**: Complex data modeling with combined structures\n",
    "\n",
    "The bonus examples show how these structures work together in real-world scenarios!"
   ]
  }
 ],
 "metadata": {
  "language_info": {
   "name": "python"
  }
 },
 "nbformat": 4,
 "nbformat_minor": 5
}
