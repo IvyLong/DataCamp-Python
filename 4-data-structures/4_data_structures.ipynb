{
 "cells": [
  {
   "cell_type": "markdown",
   "id": "0dc96a80",
   "metadata": {},
   "source": [
    "# Data Structures in Python\n",
    "\n",
    "## Learning Objectives\n",
    "\n",
    "By the end of this section, you will be able to:\n",
    "- Use Python's built-in data structures: lists, tuples, dictionaries, and sets\n",
    "- Perform common operations like indexing, appending, and deleting elements\n",
    "- Apply tuple unpacking in real-world scenarios\n",
    "- Create, read, and update dictionaries\n",
    "- Make use of set operations for unique collection use cases\n",
    "- Build lists efficiently using list comprehensions\n",
    "- Work with nested data structures for handling complex data"
   ]
  },
  {
   "cell_type": "markdown",
   "id": "f624cbf9",
   "metadata": {},
   "source": [
    "## 1. Lists and List Operations\n",
    "\n",
    "Lists are ordered, mutable collections to store items."
   ]
  },
  {
   "cell_type": "markdown",
   "id": "a16ad855",
   "metadata": {},
   "source": [
    "### Creating a List"
   ]
  },
  {
   "cell_type": "code",
   "execution_count": null,
   "id": "29df343f",
   "metadata": {},
   "outputs": [],
   "source": [
    "colors = [\"red\", \"green\", \"blue\"]\n",
    "numbers = [1, 2, 3, 4, 5]\n",
    "mixed = [1, \"hi\", 3.14]\n",
    "\n",
    "print(\"Colors:\", colors)\n",
    "print(\"Numbers:\", numbers)\n",
    "print(\"Mixed:\", mixed)"
   ]
  },
  {
   "cell_type": "markdown",
   "id": "97bfbe11",
   "metadata": {},
   "source": [
    "### Accessing & Modifying"
   ]
  },
  {
   "cell_type": "code",
   "execution_count": null,
   "id": "0f5ce25f",
   "metadata": {},
   "outputs": [],
   "source": [
    "print(colors[0])  # red\n",
    "colors[2] = \"yellow\"\n",
    "print(colors)     # ['red', 'green', 'yellow']"
   ]
  },
  {
   "cell_type": "markdown",
   "id": "b14c5594",
   "metadata": {},
   "source": [
    "### List Methods"
   ]
  },
  {
   "cell_type": "code",
   "execution_count": null,
   "id": "1c9d19a5",
   "metadata": {},
   "outputs": [],
   "source": [
    "colors.append(\"blue\")          # Add to end\n",
    "colors.insert(1, \"purple\")     # Insert at index 1\n",
    "colors.remove(\"green\")         # Remove by value\n",
    "numbers.pop()                  # Remove last item\n",
    "\n",
    "print(\"Colors after modifications:\", colors)\n",
    "print(\"Numbers after pop:\", numbers)\n",
    "print(\"Length of colors:\", len(colors))             # List length\n",
    "print(\"Slice colors[1:3]:\", colors[1:3])             # Slicing"
   ]
  },
  {
   "cell_type": "markdown",
   "id": "a8354a91",
   "metadata": {},
   "source": [
    "### Iterating Through a List"
   ]
  },
  {
   "cell_type": "code",
   "execution_count": null,
   "id": "ed6d7789",
   "metadata": {},
   "outputs": [],
   "source": [
    "for color in colors:\n",
    "    print(f\"I like {color}\")"
   ]
  },
  {
   "cell_type": "markdown",
   "id": "8b0ac177",
   "metadata": {},
   "source": [
    "## 2. Tuples and Tuple Unpacking\n",
    "\n",
    "Tuples are ordered, immutable collections—great for fixed data."
   ]
  },
  {
   "cell_type": "markdown",
   "id": "adab2f7a",
   "metadata": {},
   "source": [
    "### Creating and Using Tuples"
   ]
  },
  {
   "cell_type": "code",
   "execution_count": null,
   "id": "a8ca98c1",
   "metadata": {},
   "outputs": [],
   "source": [
    "dimensions = (20, 40)\n",
    "person = (\"Alice\", 30)\n",
    "\n",
    "print(\"Dimensions:\", dimensions)\n",
    "print(\"Person:\", person)\n",
    "\n",
    "# Tuple unpacking\n",
    "width, height = dimensions\n",
    "print(f\"Width: {width}, Height: {height}\")\n",
    "\n",
    "name, age = person\n",
    "print(f\"Name: {name}, Age: {age}\")"
   ]
  },
  {
   "cell_type": "markdown",
   "id": "205c596f",
   "metadata": {},
   "source": [
    "### When to Use Tuples\n",
    "\n",
    "- Grouping related, fixed data (immutable)\n",
    "- Function returns with multiple values"
   ]
  },
  {
   "cell_type": "code",
   "execution_count": 1,
   "id": "cc6f88b2",
   "metadata": {},
   "outputs": [
    {
     "name": "stdout",
     "output_type": "stream",
     "text": [
      "Returned: Bob, 25\n"
     ]
    }
   ],
   "source": [
    "def get_name_age():\n",
    "    return \"Bob\", 25\n",
    "\n",
    "# Function returning multiple values as tuple\n",
    "name, age = get_name_age()\n",
    "print(f\"Returned: {name}, {age}\")"
   ]
  },
  {
   "cell_type": "markdown",
   "id": "23bb0546",
   "metadata": {},
   "source": [
    "## 3. Dictionaries\n",
    "\n",
    "Dictionaries are collections of key-value pairs for fast lookups."
   ]
  },
  {
   "cell_type": "markdown",
   "id": "be099629",
   "metadata": {},
   "source": [
    "### Creating and Accessing"
   ]
  },
  {
   "cell_type": "code",
   "execution_count": 3,
   "id": "fe998685",
   "metadata": {},
   "outputs": [
    {
     "name": "stdout",
     "output_type": "stream",
     "text": [
      "Charlie\n",
      "Updated student: {'name': 'Charlie', 'age': 23, 'grade': 'A', 'major': 'Math'}\n"
     ]
    }
   ],
   "source": [
    "student = {\"name\": \"Charlie\", \"age\": 22, \"grade\": \"A\"}\n",
    "print(student[\"name\"])   # Charlie\n",
    "\n",
    "# Adding or updating\n",
    "student[\"age\"] = 23\n",
    "student[\"major\"] = \"Math\"\n",
    "\n",
    "print(\"Updated student:\", student)"
   ]
  },
  {
   "cell_type": "markdown",
   "id": "1160d29e",
   "metadata": {},
   "source": [
    "### Dictionary Methods"
   ]
  },
  {
   "cell_type": "code",
   "execution_count": null,
   "id": "35766be7",
   "metadata": {},
   "outputs": [],
   "source": [
    "print(\"Keys:\", student.keys())    # dict_keys(['name', 'age', 'grade', 'major'])\n",
    "print(\"Values:\", student.values())  # dict_values(['Charlie', 23, 'A', 'Math'])\n",
    "\n",
    "print(\"\\nIterating through items:\")\n",
    "for key, value in student.items():\n",
    "    print(f\"{key}: {value}\")"
   ]
  },
  {
   "cell_type": "markdown",
   "id": "c35e787b",
   "metadata": {},
   "source": [
    "### Removing Items"
   ]
  },
  {
   "cell_type": "code",
   "execution_count": 7,
   "id": "e78d550e",
   "metadata": {},
   "outputs": [
    {
     "name": "stdout",
     "output_type": "stream",
     "text": [
      "{'name': 'Charlie', 'age': 23, 'grade': 'A', 'major': 'Math'} \n",
      " {'name': 'Charlie', 'grade': 'A', 'major': 'Math'}\n"
     ]
    }
   ],
   "source": [
    "# Make a copy to demonstrate removal\n",
    "student_copy = student.copy()\n",
    "\n",
    "# del student_copy[\"grade\"]\n",
    "\n",
    "\n",
    "age = student_copy.pop(\"age\")\n",
    "print(student, '\\n', student_copy)\n",
    "\n",
    "# print(f\"Removed age: {age}\")\n",
    "# print(\"Student after removals:\", student_copy)"
   ]
  },
  {
   "cell_type": "markdown",
   "id": "fe1f522c",
   "metadata": {},
   "source": [
    "## 4. Sets\n",
    "\n",
    "Sets store unordered, unique elements—great for membership checks or removing duplicates."
   ]
  },
  {
   "cell_type": "markdown",
   "id": "3225ca13",
   "metadata": {},
   "source": [
    "### Creating and Using Sets"
   ]
  },
  {
   "cell_type": "code",
   "execution_count": 8,
   "id": "caf9161e",
   "metadata": {},
   "outputs": [
    {
     "name": "stdout",
     "output_type": "stream",
     "text": [
      "Unique numbers: {1, 2, 3}\n",
      "After add and discard: {1, 3, 4}\n"
     ]
    }
   ],
   "source": [
    "unique_numbers = {1, 2, 3, 2, 1}\n",
    "print(\"Unique numbers:\", unique_numbers)  # {1, 2, 3}\n",
    "\n",
    "unique_numbers.add(4)\n",
    "unique_numbers.discard(2)\n",
    "\n",
    "print(\"After add and discard:\", unique_numbers)"
   ]
  },
  {
   "cell_type": "markdown",
   "id": "5fe4d6bb",
   "metadata": {},
   "source": [
    "### Set Operations"
   ]
  },
  {
   "cell_type": "code",
   "execution_count": null,
   "id": "b9213061",
   "metadata": {},
   "outputs": [],
   "source": [
    "a = {1, 2, 3}\n",
    "b = {2, 3, 4}\n",
    "\n",
    "print(\"Set a:\", a)\n",
    "print(\"Set b:\", b)\n",
    "print(\"Union (a | b):\", a | b)  # Union: {1, 2, 3, 4}\n",
    "print(\"Intersection (a & b):\", a & b)  # Intersection: {2, 3}\n",
    "print(\"Difference (a - b):\", a - b)  # Difference: {1}\n",
    "print(\"Symmetric difference (a ^ b):\", a ^ b)  # {1, 4}"
   ]
  },
  {
   "cell_type": "markdown",
   "id": "2df5333d",
   "metadata": {},
   "source": [
    "## 5. List Comprehensions\n",
    "\n",
    "List comprehensions give you a concise way to generate lists."
   ]
  },
  {
   "cell_type": "markdown",
   "id": "f84dd2da",
   "metadata": {},
   "source": [
    "### Example: Squares"
   ]
  },
  {
   "cell_type": "code",
   "execution_count": null,
   "id": "f4037a63",
   "metadata": {},
   "outputs": [],
   "source": [
    "squares = [x**2 for x in range(6)]\n",
    "print(\"Squares:\", squares)  # [0, 1, 4, 9, 16, 25]"
   ]
  },
  {
   "cell_type": "markdown",
   "id": "f38ad765",
   "metadata": {},
   "source": [
    "### Example: Filtering"
   ]
  },
  {
   "cell_type": "code",
   "execution_count": null,
   "id": "51627ed8",
   "metadata": {},
   "outputs": [],
   "source": [
    "even = [x for x in range(10) if x % 2 == 0]\n",
    "print(\"Even numbers:\", even)   # [0, 2, 4, 6, 8]"
   ]
  },
  {
   "cell_type": "markdown",
   "id": "60addd3e",
   "metadata": {},
   "source": [
    "### Example: Nested Loop"
   ]
  },
  {
   "cell_type": "code",
   "execution_count": null,
   "id": "16a195e4",
   "metadata": {},
   "outputs": [],
   "source": [
    "pairs = [(x, y) for x in [1,2] for y in [3,4]]\n",
    "print(\"Pairs:\", pairs)  # [(1, 3), (1, 4), (2, 3), (2, 4)]"
   ]
  },
  {
   "cell_type": "markdown",
   "id": "3c7824a4",
   "metadata": {},
   "source": [
    "## 6. Nested Data Structures\n",
    "\n",
    "You can combine data structures to model complex data."
   ]
  },
  {
   "cell_type": "markdown",
   "id": "746955fe",
   "metadata": {},
   "source": [
    "### List of Dictionaries"
   ]
  },
  {
   "cell_type": "code",
   "execution_count": null,
   "id": "2dd3bf98",
   "metadata": {},
   "outputs": [],
   "source": [
    "people = [\n",
    "    {\"name\": \"Bob\", \"age\": 28},\n",
    "    {\"name\": \"Sue\", \"age\": 32}\n",
    "]\n",
    "print(\"First person's name:\", people[0][\"name\"])  # Bob\n",
    "print(\"All people:\", people)"
   ]
  },
  {
   "cell_type": "markdown",
   "id": "f8d0b80a",
   "metadata": {},
   "source": [
    "### Dictionary of Lists"
   ]
  },
  {
   "cell_type": "code",
   "execution_count": null,
   "id": "d9e65d63",
   "metadata": {},
   "outputs": [],
   "source": [
    "grades = {\n",
    "    \"Alice\": [85, 90, 92],\n",
    "    \"Bob\": [70, 88, 81]\n",
    "}\n",
    "print(\"Alice's second grade:\", grades[\"Alice\"][1])  # 90\n",
    "print(\"All grades:\", grades)"
   ]
  },
  {
   "cell_type": "markdown",
   "id": "32549ffc",
   "metadata": {},
   "source": [
    "### List of Lists (Matrix)"
   ]
  },
  {
   "cell_type": "code",
   "execution_count": null,
   "id": "bc43d4e5",
   "metadata": {},
   "outputs": [],
   "source": [
    "matrix = [\n",
    "    [1, 2, 3],\n",
    "    [4, 5, 6]\n",
    "]\n",
    "print(\"Element at row 1, column 2:\", matrix[1][2])  # 6\n",
    "print(\"Matrix:\", matrix)"
   ]
  },
  {
   "cell_type": "markdown",
   "id": "568023f0",
   "metadata": {},
   "source": [
    "## Exercises"
   ]
  },
  {
   "cell_type": "markdown",
   "id": "0d42537f",
   "metadata": {},
   "source": [
    "### 1. Lists\n",
    "\n",
    "- Create a list of five cities.\n",
    "- Replace the third city with a new one.\n",
    "- Remove the last city and print the resulting list."
   ]
  },
  {
   "cell_type": "code",
   "execution_count": null,
   "id": "f318fb9c",
   "metadata": {},
   "outputs": [],
   "source": [
    "# Your solution here"
   ]
  },
  {
   "cell_type": "markdown",
   "id": "2588079d",
   "metadata": {},
   "source": [
    "### 2. Tuples\n",
    "\n",
    "- Create a tuple representing a date (year, month, day).\n",
    "- Use tuple unpacking to assign each part to a variable and print them."
   ]
  },
  {
   "cell_type": "code",
   "execution_count": null,
   "id": "278dd6c5",
   "metadata": {},
   "outputs": [],
   "source": [
    "# Your solution here"
   ]
  },
  {
   "cell_type": "markdown",
   "id": "ad2ccb25",
   "metadata": {},
   "source": [
    "### 3. Dictionaries\n",
    "\n",
    "- Make a dictionary mapping three people's names to their favorite colors.\n",
    "- Add a new person, change one color, and remove one entry.\n",
    "- Loop through the dictionary and print each person's favorite color."
   ]
  },
  {
   "cell_type": "code",
   "execution_count": null,
   "id": "20a06320",
   "metadata": {},
   "outputs": [],
   "source": [
    "# Your solution here"
   ]
  },
  {
   "cell_type": "markdown",
   "id": "23843625",
   "metadata": {},
   "source": [
    "### 4. Sets\n",
    "\n",
    "- Given the list `[1, 2, 2, 3, 4, 4, 5]`, create a set from it.\n",
    "- Add the number 6 to the set.\n",
    "- Check if 3 is in the set."
   ]
  },
  {
   "cell_type": "code",
   "execution_count": null,
   "id": "875898d1",
   "metadata": {},
   "outputs": [],
   "source": [
    "# Your solution here"
   ]
  },
  {
   "cell_type": "markdown",
   "id": "098277b7",
   "metadata": {},
   "source": [
    "### 5. List Comprehensions\n",
    "\n",
    "- Write a list comprehension to create a list of all squares from 1 to 10 that are even."
   ]
  },
  {
   "cell_type": "code",
   "execution_count": null,
   "id": "436bc5d5",
   "metadata": {},
   "outputs": [],
   "source": [
    "# Your solution here"
   ]
  },
  {
   "cell_type": "markdown",
   "id": "f47a7b90",
   "metadata": {},
   "source": [
    "### 6. Nested Structures\n",
    "\n",
    "- Create a list of dictionaries, each representing a book with its 'title' and 'author'.\n",
    "- Print the title of the second book."
   ]
  },
  {
   "cell_type": "code",
   "execution_count": null,
   "id": "5f94da89",
   "metadata": {},
   "outputs": [],
   "source": [
    "# Your solution here"
   ]
  },
  {
   "cell_type": "markdown",
   "id": "2b45b5dc",
   "metadata": {},
   "source": [
    "## Key Takeaways\n",
    "\n",
    "- Use the right data structure for the task—lists for ordered collections, tuples for immutable groups, dictionaries for key-value data, and sets for unique items.\n",
    "- List comprehensions provide a powerful way to create and filter lists.\n",
    "- Combining these structures lets you manage complex data efficiently!"
   ]
  }
 ],
 "metadata": {
  "kernelspec": {
   "display_name": ".venv",
   "language": "python",
   "name": "python3"
  },
  "language_info": {
   "codemirror_mode": {
    "name": "ipython",
    "version": 3
   },
   "file_extension": ".py",
   "mimetype": "text/x-python",
   "name": "python",
   "nbconvert_exporter": "python",
   "pygments_lexer": "ipython3",
   "version": "3.13.5"
  }
 },
 "nbformat": 4,
 "nbformat_minor": 5
}
