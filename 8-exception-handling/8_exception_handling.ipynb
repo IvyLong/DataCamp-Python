{
 "cells": [
  {
   "cell_type": "markdown",
   "metadata": {},
   "source": [
    "# Python Workshop: Exception Handling\n",
    "\n",
    "## Learning Objectives\n",
    "\n",
    "By the end of this section, you will be able to:\n",
    "- Use try, except, else, and finally blocks to manage exceptions\n",
    "- Raise exceptions intentionally within your code\n",
    "- Create and utilize custom exceptions tailored to your application\n",
    "- Implement debugging techniques to identify and fix issues\n",
    "- Handle multiple exceptions in a single try-except block"
   ]
  },
  {
   "cell_type": "markdown",
   "metadata": {},
   "source": [
    "---\n",
    "\n",
    "## 1. Using Try, Except, Else, and Finally Blocks\n",
    "\n",
    "Python's exception handling uses `try`, `except`, `else`, and `finally` to manage errors and ensure clean execution."
   ]
  },
  {
   "cell_type": "markdown",
   "metadata": {},
   "source": [
    "### Basic Try-Except Block"
   ]
  },
  {
   "cell_type": "code",
   "execution_count": null,
   "metadata": {},
   "outputs": [],
   "source": [
    "# Example 1: Basic try-except block\n",
    "try:\n",
    "    number = int(input(\"Enter a number: \"))\n",
    "    result = 10 / number\n",
    "    print(f\"Result: {result}\")\n",
    "except ZeroDivisionError:\n",
    "    print(\"You cannot divide by zero!\")\n",
    "except ValueError:\n",
    "    print(\"Please enter a valid integer.\")"
   ]
  },
  {
   "cell_type": "code",
   "execution_count": null,
   "metadata": {},
   "outputs": [],
   "source": [
    "# Let's test the above code with different inputs\n",
    "# Test with valid input\n",
    "print(\"Test 1: Valid input\")\n",
    "try:\n",
    "    number = 5  # Simulating user input\n",
    "    result = 10 / number\n",
    "    print(f\"Result: {result}\")\n",
    "except ZeroDivisionError:\n",
    "    print(\"You cannot divide by zero!\")\n",
    "except ValueError:\n",
    "    print(\"Please enter a valid integer.\")"
   ]
  },
  {
   "cell_type": "code",
   "execution_count": null,
   "metadata": {},
   "outputs": [],
   "source": [
    "# Test with division by zero\n",
    "print(\"Test 2: Division by zero\")\n",
    "try:\n",
    "    number = 0  # Simulating user input\n",
    "    result = 10 / number\n",
    "    print(f\"Result: {result}\")\n",
    "except ZeroDivisionError:\n",
    "    print(\"You cannot divide by zero!\")\n",
    "except ValueError:\n",
    "    print(\"Please enter a valid integer.\")"
   ]
  },
  {
   "cell_type": "code",
   "execution_count": null,
   "metadata": {},
   "outputs": [],
   "source": [
    "# Test with invalid input\n",
    "print(\"Test 3: Invalid input\")\n",
    "try:\n",
    "    number = int(\"abc\")  # This will raise ValueError\n",
    "    result = 10 / number\n",
    "    print(f\"Result: {result}\")\n",
    "except ZeroDivisionError:\n",
    "    print(\"You cannot divide by zero!\")\n",
    "except ValueError:\n",
    "    print(\"Please enter a valid integer.\")"
   ]
  },
  {
   "cell_type": "markdown",
   "metadata": {},
   "source": [
    "### Using Else and Finally\n",
    "\n",
    "- **`else`**: Runs if no exceptions were raised.\n",
    "- **`finally`**: Executes no matter what, often used for cleanup."
   ]
  },
  {
   "cell_type": "code",
   "execution_count": null,
   "metadata": {},
   "outputs": [],
   "source": [
    "# Example with else and finally\n",
    "try:\n",
    "    # Create a simple file for demonstration\n",
    "    with open('demo_data.txt', 'w') as f:\n",
    "        f.write('Hello, this is demo data!')\n",
    "    \n",
    "    file = open('demo_data.txt', 'r')\n",
    "except FileNotFoundError:\n",
    "    print(\"The file was not found.\")\n",
    "# Using else to execute code if no exceptions were raised. This is useful for code that should only run if the try block was successful.\n",
    "else:\n",
    "    content = file.read()\n",
    "    print(f\"File content: {content}\")\n",
    "finally:\n",
    "    if 'file' in locals():\n",
    "        file.close()\n",
    "    print(\"Executed whether exception occurred or not\")\n",
    "    \n",
    "    # Clean up the demo file\n",
    "    import os\n",
    "    if os.path.exists('demo_data.txt'):\n",
    "        os.remove('demo_data.txt')"
   ]
  },
  {
   "cell_type": "code",
   "execution_count": null,
   "metadata": {},
   "outputs": [],
   "source": [
    "# Test with file not found\n",
    "try:\n",
    "    file = open('nonexistent_file.txt', 'r')\n",
    "except FileNotFoundError:\n",
    "    print(\"The file was not found.\")\n",
    "else:\n",
    "    content = file.read()\n",
    "    print(f\"File content: {content}\")\n",
    "finally:\n",
    "    if 'file' in locals():\n",
    "        file.close()\n",
    "    print(\"Executed whether exception occurred or not\")"
   ]
  },
  {
   "cell_type": "markdown",
   "metadata": {},
   "source": [
    "---\n",
    "\n",
    "## 2. Raising Exceptions\n",
    "\n",
    "Raising exceptions can help signal unexpected conditions in your code logic."
   ]
  },
  {
   "cell_type": "code",
   "execution_count": null,
   "metadata": {},
   "outputs": [],
   "source": [
    "def validate_age(age):\n",
    "    if age < 0:\n",
    "        raise ValueError(\"Age cannot be negative.\")\n",
    "    print(f\"Age is: {age}\")\n",
    "\n",
    "# Test with valid age\n",
    "try:\n",
    "    validate_age(25)\n",
    "except ValueError as e:\n",
    "    print(f\"Error: {e}\")"
   ]
  },
  {
   "cell_type": "code",
   "execution_count": null,
   "metadata": {},
   "outputs": [],
   "source": [
    "# Test with invalid age\n",
    "try:\n",
    "    validate_age(-5)\n",
    "except ValueError as e:\n",
    "    print(f\"Error: {e}\")"
   ]
  },
  {
   "cell_type": "code",
   "execution_count": null,
   "metadata": {},
   "outputs": [],
   "source": [
    "# More examples of raising exceptions\n",
    "def calculate_square_root(number):\n",
    "    if number < 0:\n",
    "        raise ValueError(\"Cannot calculate square root of negative number\")\n",
    "    return number ** 0.5\n",
    "\n",
    "# Test the function\n",
    "print(\"Square root of 16:\", calculate_square_root(16))\n",
    "\n",
    "try:\n",
    "    print(\"Square root of -4:\", calculate_square_root(-4))\n",
    "except ValueError as e:\n",
    "    print(f\"Error: {e}\")"
   ]
  },
  {
   "cell_type": "markdown",
   "metadata": {},
   "source": [
    "---\n",
    "\n",
    "## 3. Custom Exceptions\n",
    "\n",
    "Custom exceptions are created by defining a new class derived from `Exception`."
   ]
  },
  {
   "cell_type": "code",
   "execution_count": null,
   "metadata": {},
   "outputs": [],
   "source": [
    "class InvalidAgeError(Exception):\n",
    "    pass\n",
    "\n",
    "def register_voter(age):\n",
    "    if age < 18:\n",
    "        raise InvalidAgeError(\"Voter must be at least 18 years old.\")\n",
    "    print(\"Voter registered successfully.\")\n",
    "\n",
    "# Test with valid age\n",
    "try:\n",
    "    register_voter(20)\n",
    "except InvalidAgeError as e:\n",
    "    print(e)"
   ]
  },
  {
   "cell_type": "code",
   "execution_count": null,
   "metadata": {},
   "outputs": [],
   "source": [
    "# Test with invalid age\n",
    "try:\n",
    "    register_voter(16)\n",
    "except InvalidAgeError as e:\n",
    "    print(e)"
   ]
  },
  {
   "cell_type": "code",
   "execution_count": null,
   "metadata": {},
   "outputs": [],
   "source": [
    "# More complex custom exception example\n",
    "class TemperatureError(Exception):\n",
    "    def __init__(self, temperature, message=\"Invalid temperature\"):\n",
    "        self.temperature = temperature\n",
    "        self.message = message\n",
    "        super().__init__(self.message)\n",
    "\n",
    "def check_temperature(temp):\n",
    "    if temp < -273.15:  # Absolute zero in Celsius\n",
    "        raise TemperatureError(temp, \"Temperature cannot be below absolute zero\")\n",
    "    elif temp > 100:\n",
    "        raise TemperatureError(temp, \"Temperature is too high\")\n",
    "    print(f\"Temperature {temp}°C is valid\")\n",
    "\n",
    "# Test the temperature function\n",
    "temperatures = [25, -300, 150, 0]\n",
    "\n",
    "for temp in temperatures:\n",
    "    try:\n",
    "        check_temperature(temp)\n",
    "    except TemperatureError as e:\n",
    "        print(f\"Error: {e.message} (Temperature: {e.temperature}°C)\")"
   ]
  },
  {
   "cell_type": "markdown",
   "metadata": {},
   "source": [
    "---\n",
    "\n",
    "## 4. Debugging Techniques\n",
    "\n",
    "### Using Print Statements\n",
    "\n",
    "Strategically place `print` statements to track variable values and control flow."
   ]
  },
  {
   "cell_type": "code",
   "execution_count": null,
   "metadata": {},
   "outputs": [],
   "source": [
    "# Example of debugging with print statements\n",
    "def calculate_average(numbers):\n",
    "    print(f\"Debug: Input numbers: {numbers}\")\n",
    "    \n",
    "    if not numbers:\n",
    "        print(\"Debug: Empty list detected\")\n",
    "        return 0\n",
    "    \n",
    "    total = sum(numbers)\n",
    "    print(f\"Debug: Sum of numbers: {total}\")\n",
    "    \n",
    "    count = len(numbers)\n",
    "    print(f\"Debug: Count of numbers: {count}\")\n",
    "    \n",
    "    average = total / count\n",
    "    print(f\"Debug: Calculated average: {average}\")\n",
    "    \n",
    "    return average\n",
    "\n",
    "# Test the function\n",
    "print(\"Testing with valid input:\")\n",
    "result = calculate_average([10, 20, 30, 40])\n",
    "print(f\"Final result: {result}\\n\")\n",
    "\n",
    "print(\"Testing with empty list:\")\n",
    "result = calculate_average([])\n",
    "print(f\"Final result: {result}\")"
   ]
  },
  {
   "cell_type": "markdown",
   "metadata": {},
   "source": [
    "### Using Breakpoints\n",
    "\n",
    "Breakpoints allow you to pause program execution at a specific line to inspect variables and program state. In most IDEs, you can set a breakpoint by clicking next to the line number. When the program hits the breakpoint, you can step through code, examine values, and debug interactively.\n",
    "\n",
    "**Note**: In Jupyter notebooks, you can use the `breakpoint()` function or `pdb.set_trace()` to set breakpoints programmatically."
   ]
  },
  {
   "cell_type": "code",
   "execution_count": null,
   "metadata": {},
   "outputs": [],
   "source": [
    "# Example of using breakpoint() function\n",
    "def debug_function(x, y):\n",
    "    result = x + y\n",
    "    # Uncomment the next line to set a breakpoint\n",
    "    # breakpoint()\n",
    "    print(f\"x = {x}, y = {y}, result = {result}\")\n",
    "    return result\n",
    "\n",
    "debug_function(5, 3)"
   ]
  },
  {
   "cell_type": "markdown",
   "metadata": {},
   "source": [
    "### Logging\n",
    "\n",
    "Use the `logging` module for more organized tracking."
   ]
  },
  {
   "cell_type": "code",
   "execution_count": null,
   "metadata": {},
   "outputs": [],
   "source": [
    "import logging\n",
    "\n",
    "# Configure logging\n",
    "logging.basicConfig(level=logging.WARNING, format='%(asctime)s - %(levelname)s - %(message)s', force=True)\n",
    "\n",
    "def process_data(data):\n",
    "    logging.info(f'Starting to process data: {data}')\n",
    "    \n",
    "    if not data:\n",
    "        logging.warning('Empty data received')\n",
    "        return None\n",
    "    \n",
    "    try:\n",
    "        result = sum(data)\n",
    "        logging.info(f'Successfully processed data. Result: {result}')\n",
    "        return result\n",
    "    except TypeError as e:\n",
    "        logging.error(f'Error processing data: {e}')\n",
    "        return None\n",
    "\n",
    "# Test the logging function\n",
    "print(\"Test 1: Valid data\")\n",
    "process_data([1, 2, 3, 4, 5])\n",
    "\n",
    "print(\"\\nTest 2: Empty data\")\n",
    "process_data([])\n",
    "\n",
    "print(\"\\nTest 3: Invalid data\")\n",
    "process_data([1, 2, 'three', 4])"
   ]
  },
  {
   "cell_type": "markdown",
   "metadata": {},
   "source": [
    "---\n",
    "\n",
    "## 5. Handling Multiple Exceptions\n",
    "\n",
    "You can capture multiple exceptions in one block using parentheses."
   ]
  },
  {
   "cell_type": "code",
   "execution_count": null,
   "metadata": {},
   "outputs": [],
   "source": [
    "# Example of handling multiple exceptions\n",
    "try:\n",
    "    index = int(input(\"Enter index: \"))\n",
    "    lst = [10, 20, 30]\n",
    "    print(lst[index])\n",
    "except (IndexError, ValueError) as e:\n",
    "    print(f\"An error occurred: {e}\")"
   ]
  },
  {
   "cell_type": "code",
   "execution_count": null,
   "metadata": {},
   "outputs": [],
   "source": [
    "# Let's test with different scenarios\n",
    "def safe_list_access(lst, index_str):\n",
    "    try:\n",
    "        index = int(index_str)\n",
    "        return lst[index]\n",
    "    except (IndexError, ValueError) as e:\n",
    "        return f\"Error: {e}\"\n",
    "\n",
    "# Test cases\n",
    "test_list = [10, 20, 30, 40, 50]\n",
    "test_cases = [\n",
    "    (\"2\", \"Valid index\"),\n",
    "    (\"10\", \"Index out of range\"),\n",
    "    (\"abc\", \"Invalid input\"),\n",
    "    (\"-1\", \"Negative index\"),\n",
    "    (\"0\", \"First element\")\n",
    "]\n",
    "\n",
    "for index_str, description in test_cases:\n",
    "    result = safe_list_access(test_list, index_str)\n",
    "    print(f\"{description}: {result}\")"
   ]
  },
  {
   "cell_type": "code",
   "execution_count": null,
   "metadata": {},
   "outputs": [],
   "source": [
    "# More complex example with multiple exception types\n",
    "def safe_division_and_indexing(numbers, index_str, divisor_str):\n",
    "    try:\n",
    "        index = int(index_str)\n",
    "        divisor = int(divisor_str)\n",
    "        \n",
    "        value = numbers[index]\n",
    "        result = value / divisor\n",
    "        \n",
    "        return f\"Result: {result}\"\n",
    "        \n",
    "    except (IndexError, ValueError, ZeroDivisionError) as e:\n",
    "        return f\"Error: {e}\"\n",
    "\n",
    "# Test the function\n",
    "test_numbers = [10, 20, 30, 40]\n",
    "test_scenarios = [\n",
    "    (\"1\", \"2\", \"Valid case\"),\n",
    "    (\"5\", \"2\", \"Index out of range\"),\n",
    "    (\"1\", \"0\", \"Division by zero\"),\n",
    "    (\"abc\", \"2\", \"Invalid index\"),\n",
    "    (\"1\", \"xyz\", \"Invalid divisor\")\n",
    "]\n",
    "\n",
    "for index_str, divisor_str, description in test_scenarios:\n",
    "    result = safe_division_and_indexing(test_numbers, index_str, divisor_str)\n",
    "    print(f\"{description}: {result}\")"
   ]
  },
  {
   "cell_type": "markdown",
   "metadata": {},
   "source": [
    "---\n",
    "\n",
    "## Exercises\n",
    "\n",
    "Now it's your turn to practice! Try these exercises:"
   ]
  },
  {
   "cell_type": "markdown",
   "metadata": {},
   "source": [
    "### Exercise 1: Try, Except, Else, Finally\n",
    "\n",
    "Write a function that opens a file specified by the user. Use try-except to handle file not found errors, and finally to ensure the file is closed."
   ]
  },
  {
   "cell_type": "code",
   "execution_count": null,
   "metadata": {},
   "outputs": [],
   "source": [
    "# Your code here\n",
    "def safe_file_reader(filename):\n",
    "    \"\"\"\n",
    "    Safely read a file and return its contents.\n",
    "    Use try-except-else-finally blocks to handle errors.\n",
    "    \"\"\"\n",
    "    # TODO: Implement your solution here\n",
    "    pass\n",
    "\n",
    "# Test your function\n",
    "# safe_file_reader('test_file.txt')"
   ]
  },
  {
   "cell_type": "markdown",
   "metadata": {},
   "source": [
    "### Exercise 2: Raising Exceptions\n",
    "\n",
    "Create a function to check temperature input. Raise an exception if the temperature is below absolute zero."
   ]
  },
  {
   "cell_type": "code",
   "execution_count": null,
   "metadata": {},
   "outputs": [],
   "source": [
    "# Your code here\n",
    "def validate_temperature(temp):\n",
    "    \"\"\"\n",
    "    Validate temperature input.\n",
    "    Raise an exception if temperature is below absolute zero (-273.15°C).\n",
    "    \"\"\"\n",
    "    # TODO: Implement your solution here\n",
    "    pass\n",
    "\n",
    "# Test your function\n",
    "# validate_temperature(25)  # Should work\n",
    "# validate_temperature(-300)  # Should raise exception"
   ]
  },
  {
   "cell_type": "markdown",
   "metadata": {},
   "source": [
    "### Exercise 3: Custom Exceptions\n",
    "\n",
    "Develop a custom exception for invalid user input in a form with specific conditions."
   ]
  },
  {
   "cell_type": "code",
   "execution_count": null,
   "metadata": {},
   "outputs": [],
   "source": [
    "# Your code here\n",
    "# TODO: Create a custom exception class\n",
    "\n",
    "# TODO: Create a function that uses your custom exception\n",
    "def validate_user_form(name, email, age):\n",
    "    \"\"\"\n",
    "    Validate user form data.\n",
    "    Raise custom exceptions for invalid input.\n",
    "    \"\"\"\n",
    "    # TODO: Implement your solution here\n",
    "    pass\n",
    "\n",
    "# Test your function\n",
    "# validate_user_form(\"John\", \"john@example.com\", 25)  # Should work\n",
    "# validate_user_form(\"\", \"invalid-email\", 15)  # Should raise exceptions"
   ]
  },
  {
   "cell_type": "markdown",
   "metadata": {},
   "source": [
    "### Exercise 4: Debugging Techniques\n",
    "\n",
    "Use the `logging` module to insert debug-level logs in a simple script performing mathematical calculations."
   ]
  },
  {
   "cell_type": "code",
   "execution_count": null,
   "metadata": {},
   "outputs": [],
   "source": [
    "# Your code here\n",
    "import logging\n",
    "\n",
    "# TODO: Configure logging\n",
    "\n",
    "def calculate_statistics(numbers):\n",
    "    \"\"\"\n",
    "    Calculate mean, median, and standard deviation of a list of numbers.\n",
    "    Use logging to track the calculation process.\n",
    "    \"\"\"\n",
    "    # TODO: Implement your solution here\n",
    "    pass\n",
    "\n",
    "# Test your function\n",
    "# calculate_statistics([1, 2, 3, 4, 5])"
   ]
  },
  {
   "cell_type": "markdown",
   "metadata": {},
   "source": [
    "### Exercise 5: Handling Multiple Exceptions\n",
    "\n",
    "Modify a list index and division program to handle out-of-bounds and division by zero errors in one block."
   ]
  },
  {
   "cell_type": "code",
   "execution_count": null,
   "metadata": {},
   "outputs": [],
   "source": [
    "# Your code here\n",
    "def safe_calculation(numbers, index_str, divisor_str):\n",
    "    \"\"\"\n",
    "    Safely perform division on a list element.\n",
    "    Handle IndexError, ValueError, and ZeroDivisionError in one block.\n",
    "    \"\"\"\n",
    "    # TODO: Implement your solution here\n",
    "    pass\n",
    "\n",
    "# Test your function\n",
    "# test_list = [10, 20, 30, 40]\n",
    "# safe_calculation(test_list, \"1\", \"2\")  # Should work\n",
    "# safe_calculation(test_list, \"10\", \"2\")  # IndexError\n",
    "# safe_calculation(test_list, \"1\", \"0\")  # ZeroDivisionError\n",
    "# safe_calculation(test_list, \"abc\", \"2\")  # ValueError"
   ]
  },
  {
   "cell_type": "markdown",
   "metadata": {},
   "source": [
    "---\n",
    "\n",
    "## Key Takeaways\n",
    "\n",
    "- Exception handling with try-except blocks is crucial for managing errors.\n",
    "- Raising and customizing exceptions helps address application-specific conditions.\n",
    "- Debugging through print statements, logging, and debuggers provides insights into program behavior.\n",
    "- Handling multiple exceptions allows for more robust error management in complex code.\n",
    "\n",
    "**Practice these concepts regularly to become proficient in writing robust Python code!**"
   ]
  }
 ],
 "metadata": {
  "kernelspec": {
   "display_name": ".venv",
   "language": "python",
   "name": "python3"
  },
  "language_info": {
   "codemirror_mode": {
    "name": "ipython",
    "version": 3
   },
   "file_extension": ".py",
   "mimetype": "text/x-python",
   "name": "python",
   "nbconvert_exporter": "python",
   "pygments_lexer": "ipython3",
   "version": "3.13.5"
  }
 },
 "nbformat": 4,
 "nbformat_minor": 4
}
